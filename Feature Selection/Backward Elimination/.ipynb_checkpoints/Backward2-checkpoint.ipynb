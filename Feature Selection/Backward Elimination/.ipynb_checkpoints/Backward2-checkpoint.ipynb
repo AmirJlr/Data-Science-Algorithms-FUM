{
 "cells": [
  {
   "cell_type": "code",
   "execution_count": 1,
   "id": "a7b7000d",
   "metadata": {},
   "outputs": [],
   "source": [
    "# !pip install mlxtend\n",
    "\n",
    "#importing the libraries\n",
    "import pandas as pd\n",
    "\n",
    "from sklearn.svm import SVC\n",
    "\n",
    "from mlxtend.feature_selection import SequentialFeatureSelector as sfs"
   ]
  },
  {
   "cell_type": "code",
   "execution_count": 2,
   "id": "a6e6336f",
   "metadata": {},
   "outputs": [
    {
     "data": {
      "text/html": [
       "<div>\n",
       "<style scoped>\n",
       "    .dataframe tbody tr th:only-of-type {\n",
       "        vertical-align: middle;\n",
       "    }\n",
       "\n",
       "    .dataframe tbody tr th {\n",
       "        vertical-align: top;\n",
       "    }\n",
       "\n",
       "    .dataframe thead th {\n",
       "        text-align: right;\n",
       "    }\n",
       "</style>\n",
       "<table border=\"1\" class=\"dataframe\">\n",
       "  <thead>\n",
       "    <tr style=\"text-align: right;\">\n",
       "      <th></th>\n",
       "      <th>Unnamed: 0</th>\n",
       "      <th>venue_code</th>\n",
       "      <th>opp_code</th>\n",
       "      <th>hour</th>\n",
       "      <th>day_code</th>\n",
       "      <th>gf_rolling</th>\n",
       "      <th>ga_rolling</th>\n",
       "      <th>sh_rolling</th>\n",
       "      <th>sot_rolling</th>\n",
       "      <th>dist_rolling</th>\n",
       "      <th>pk_rolling</th>\n",
       "      <th>pkatt_rolling</th>\n",
       "      <th>Win</th>\n",
       "    </tr>\n",
       "  </thead>\n",
       "  <tbody>\n",
       "    <tr>\n",
       "      <th>0</th>\n",
       "      <td>0</td>\n",
       "      <td>1</td>\n",
       "      <td>16</td>\n",
       "      <td>15</td>\n",
       "      <td>5</td>\n",
       "      <td>0.000000</td>\n",
       "      <td>3.000000</td>\n",
       "      <td>9.666667</td>\n",
       "      <td>2.333333</td>\n",
       "      <td>14.833333</td>\n",
       "      <td>0.0</td>\n",
       "      <td>0.0</td>\n",
       "      <td>1</td>\n",
       "    </tr>\n",
       "    <tr>\n",
       "      <th>1</th>\n",
       "      <td>1</td>\n",
       "      <td>0</td>\n",
       "      <td>5</td>\n",
       "      <td>15</td>\n",
       "      <td>5</td>\n",
       "      <td>0.333333</td>\n",
       "      <td>2.333333</td>\n",
       "      <td>12.333333</td>\n",
       "      <td>3.000000</td>\n",
       "      <td>14.133333</td>\n",
       "      <td>0.0</td>\n",
       "      <td>0.0</td>\n",
       "      <td>1</td>\n",
       "    </tr>\n",
       "    <tr>\n",
       "      <th>2</th>\n",
       "      <td>2</td>\n",
       "      <td>1</td>\n",
       "      <td>19</td>\n",
       "      <td>16</td>\n",
       "      <td>6</td>\n",
       "      <td>0.666667</td>\n",
       "      <td>1.666667</td>\n",
       "      <td>14.666667</td>\n",
       "      <td>3.000000</td>\n",
       "      <td>14.800000</td>\n",
       "      <td>0.0</td>\n",
       "      <td>0.0</td>\n",
       "      <td>1</td>\n",
       "    </tr>\n",
       "    <tr>\n",
       "      <th>3</th>\n",
       "      <td>3</td>\n",
       "      <td>0</td>\n",
       "      <td>4</td>\n",
       "      <td>17</td>\n",
       "      <td>5</td>\n",
       "      <td>1.666667</td>\n",
       "      <td>0.333333</td>\n",
       "      <td>18.333333</td>\n",
       "      <td>5.333333</td>\n",
       "      <td>18.433333</td>\n",
       "      <td>0.0</td>\n",
       "      <td>0.0</td>\n",
       "      <td>0</td>\n",
       "    </tr>\n",
       "    <tr>\n",
       "      <th>4</th>\n",
       "      <td>4</td>\n",
       "      <td>1</td>\n",
       "      <td>7</td>\n",
       "      <td>20</td>\n",
       "      <td>0</td>\n",
       "      <td>1.333333</td>\n",
       "      <td>0.333333</td>\n",
       "      <td>11.000000</td>\n",
       "      <td>4.000000</td>\n",
       "      <td>19.833333</td>\n",
       "      <td>0.0</td>\n",
       "      <td>0.0</td>\n",
       "      <td>0</td>\n",
       "    </tr>\n",
       "  </tbody>\n",
       "</table>\n",
       "</div>"
      ],
      "text/plain": [
       "   Unnamed: 0  venue_code  opp_code  hour  day_code  gf_rolling  ga_rolling  \\\n",
       "0           0           1        16    15         5    0.000000    3.000000   \n",
       "1           1           0         5    15         5    0.333333    2.333333   \n",
       "2           2           1        19    16         6    0.666667    1.666667   \n",
       "3           3           0         4    17         5    1.666667    0.333333   \n",
       "4           4           1         7    20         0    1.333333    0.333333   \n",
       "\n",
       "   sh_rolling  sot_rolling  dist_rolling  pk_rolling  pkatt_rolling  Win  \n",
       "0    9.666667     2.333333     14.833333         0.0            0.0    1  \n",
       "1   12.333333     3.000000     14.133333         0.0            0.0    1  \n",
       "2   14.666667     3.000000     14.800000         0.0            0.0    1  \n",
       "3   18.333333     5.333333     18.433333         0.0            0.0    0  \n",
       "4   11.000000     4.000000     19.833333         0.0            0.0    0  "
      ]
     },
     "execution_count": 2,
     "metadata": {},
     "output_type": "execute_result"
    }
   ],
   "source": [
    "#reading the file\n",
    "\n",
    "data = pd.read_csv('../../Data/f_win.csv')\n",
    "data.head()"
   ]
  },
  {
   "cell_type": "code",
   "execution_count": 3,
   "id": "a9c5e43e",
   "metadata": {},
   "outputs": [],
   "source": [
    "data.drop('Unnamed: 0', axis=1, inplace=True)"
   ]
  },
  {
   "cell_type": "code",
   "execution_count": 4,
   "id": "7fe2b21f",
   "metadata": {},
   "outputs": [],
   "source": [
    "X = data.drop('Win', axis=1)\n",
    "y = data['Win']"
   ]
  },
  {
   "cell_type": "code",
   "execution_count": 5,
   "id": "cd55056c",
   "metadata": {},
   "outputs": [],
   "source": [
    "svm = SVC()"
   ]
  },
  {
   "cell_type": "code",
   "execution_count": 11,
   "id": "20c91ed1",
   "metadata": {},
   "outputs": [],
   "source": [
    "bw2 = sfs(svm, k_features=3, forward=False, verbose=2, scoring='accuracy')"
   ]
  },
  {
   "cell_type": "code",
   "execution_count": 12,
   "id": "651793ee",
   "metadata": {},
   "outputs": [
    {
     "name": "stderr",
     "output_type": "stream",
     "text": [
      "[Parallel(n_jobs=1)]: Using backend SequentialBackend with 1 concurrent workers.\n",
      "[Parallel(n_jobs=1)]: Done   1 out of   1 | elapsed:    0.1s remaining:    0.0s\n",
      "[Parallel(n_jobs=1)]: Done  11 out of  11 | elapsed:    2.0s finished\n",
      "\n",
      "[2022-12-31 17:59:25] Features: 10/3 -- score: 0.6281946624803768[Parallel(n_jobs=1)]: Using backend SequentialBackend with 1 concurrent workers.\n",
      "[Parallel(n_jobs=1)]: Done   1 out of   1 | elapsed:    0.1s remaining:    0.0s\n",
      "[Parallel(n_jobs=1)]: Done  10 out of  10 | elapsed:    1.8s finished\n",
      "\n",
      "[2022-12-31 17:59:27] Features: 9/3 -- score: 0.6281946624803768[Parallel(n_jobs=1)]: Using backend SequentialBackend with 1 concurrent workers.\n",
      "[Parallel(n_jobs=1)]: Done   1 out of   1 | elapsed:    0.1s remaining:    0.0s\n",
      "[Parallel(n_jobs=1)]: Done   9 out of   9 | elapsed:    1.5s finished\n",
      "\n",
      "[2022-12-31 17:59:29] Features: 8/3 -- score: 0.6312558869701727[Parallel(n_jobs=1)]: Using backend SequentialBackend with 1 concurrent workers.\n",
      "[Parallel(n_jobs=1)]: Done   1 out of   1 | elapsed:    0.1s remaining:    0.0s\n",
      "[Parallel(n_jobs=1)]: Done   8 out of   8 | elapsed:    1.4s finished\n",
      "\n",
      "[2022-12-31 17:59:30] Features: 7/3 -- score: 0.6292203035060178[Parallel(n_jobs=1)]: Using backend SequentialBackend with 1 concurrent workers.\n",
      "[Parallel(n_jobs=1)]: Done   1 out of   1 | elapsed:    0.1s remaining:    0.0s\n",
      "[Parallel(n_jobs=1)]: Done   7 out of   7 | elapsed:    1.2s finished\n",
      "\n",
      "[2022-12-31 17:59:31] Features: 6/3 -- score: 0.6322658294086865[Parallel(n_jobs=1)]: Using backend SequentialBackend with 1 concurrent workers.\n",
      "[Parallel(n_jobs=1)]: Done   1 out of   1 | elapsed:    0.1s remaining:    0.0s\n",
      "[Parallel(n_jobs=1)]: Done   6 out of   6 | elapsed:    0.9s finished\n",
      "\n",
      "[2022-12-31 17:59:32] Features: 5/3 -- score: 0.6312558869701727[Parallel(n_jobs=1)]: Using backend SequentialBackend with 1 concurrent workers.\n",
      "[Parallel(n_jobs=1)]: Done   1 out of   1 | elapsed:    0.1s remaining:    0.0s\n",
      "[Parallel(n_jobs=1)]: Done   5 out of   5 | elapsed:    0.8s finished\n",
      "\n",
      "[2022-12-31 17:59:33] Features: 4/3 -- score: 0.631250654107797[Parallel(n_jobs=1)]: Using backend SequentialBackend with 1 concurrent workers.\n",
      "[Parallel(n_jobs=1)]: Done   1 out of   1 | elapsed:    0.1s remaining:    0.0s\n",
      "[Parallel(n_jobs=1)]: Done   4 out of   4 | elapsed:    0.6s finished\n",
      "\n",
      "[2022-12-31 17:59:34] Features: 3/3 -- score: 0.631250654107797"
     ]
    }
   ],
   "source": [
    "bw2 = bw2.fit(X,y)"
   ]
  },
  {
   "cell_type": "code",
   "execution_count": 13,
   "id": "6e0e6279",
   "metadata": {},
   "outputs": [
    {
     "name": "stdout",
     "output_type": "stream",
     "text": [
      "['day_code', 'gf_rolling', 'sh_rolling']\n"
     ]
    }
   ],
   "source": [
    "feat_names = list(bw2.k_feature_names_)\n",
    "print(feat_names)"
   ]
  }
 ],
 "metadata": {
  "kernelspec": {
   "display_name": "Python 3 (ipykernel)",
   "language": "python",
   "name": "python3"
  },
  "language_info": {
   "codemirror_mode": {
    "name": "ipython",
    "version": 3
   },
   "file_extension": ".py",
   "mimetype": "text/x-python",
   "name": "python",
   "nbconvert_exporter": "python",
   "pygments_lexer": "ipython3",
   "version": "3.9.13"
  }
 },
 "nbformat": 4,
 "nbformat_minor": 5
}
