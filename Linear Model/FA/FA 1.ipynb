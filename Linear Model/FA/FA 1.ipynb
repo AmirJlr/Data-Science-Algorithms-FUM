{
 "cells": [
  {
   "cell_type": "code",
   "execution_count": 1,
   "id": "e5c4e961",
   "metadata": {},
   "outputs": [],
   "source": [
    "# Import the libraries\n",
    "\n",
    "import numpy as np\n",
    "import pandas as pd\n",
    "import matplotlib.pyplot as plt\n",
    "from sklearn.preprocessing import StandardScaler\n",
    "\n",
    "#!pip install factor_analyzer\n",
    "\n",
    "from factor_analyzer import FactorAnalyzer\n",
    "from factor_analyzer.factor_analyzer import calculate_bartlett_sphericity,calculate_kmo"
   ]
  },
  {
   "cell_type": "code",
   "execution_count": 2,
   "id": "e5bdd853",
   "metadata": {},
   "outputs": [
    {
     "data": {
      "text/html": [
       "<div>\n",
       "<style scoped>\n",
       "    .dataframe tbody tr th:only-of-type {\n",
       "        vertical-align: middle;\n",
       "    }\n",
       "\n",
       "    .dataframe tbody tr th {\n",
       "        vertical-align: top;\n",
       "    }\n",
       "\n",
       "    .dataframe thead th {\n",
       "        text-align: right;\n",
       "    }\n",
       "</style>\n",
       "<table border=\"1\" class=\"dataframe\">\n",
       "  <thead>\n",
       "    <tr style=\"text-align: right;\">\n",
       "      <th></th>\n",
       "      <th>Unnamed: 0</th>\n",
       "      <th>CreditScore</th>\n",
       "      <th>Age</th>\n",
       "      <th>Tenure</th>\n",
       "      <th>Balance</th>\n",
       "      <th>NumOfProducts</th>\n",
       "      <th>HasCrCard</th>\n",
       "      <th>IsActiveMember</th>\n",
       "      <th>EstimatedSalary</th>\n",
       "      <th>Exited</th>\n",
       "      <th>Geography_France</th>\n",
       "      <th>Geography_Germany</th>\n",
       "      <th>Geography_Spain</th>\n",
       "      <th>Gender</th>\n",
       "    </tr>\n",
       "  </thead>\n",
       "  <tbody>\n",
       "    <tr>\n",
       "      <th>0</th>\n",
       "      <td>0</td>\n",
       "      <td>619</td>\n",
       "      <td>42</td>\n",
       "      <td>2</td>\n",
       "      <td>0.00</td>\n",
       "      <td>1</td>\n",
       "      <td>1</td>\n",
       "      <td>1</td>\n",
       "      <td>101348.88</td>\n",
       "      <td>1</td>\n",
       "      <td>1</td>\n",
       "      <td>0</td>\n",
       "      <td>0</td>\n",
       "      <td>1</td>\n",
       "    </tr>\n",
       "    <tr>\n",
       "      <th>1</th>\n",
       "      <td>1</td>\n",
       "      <td>608</td>\n",
       "      <td>41</td>\n",
       "      <td>1</td>\n",
       "      <td>83807.86</td>\n",
       "      <td>1</td>\n",
       "      <td>0</td>\n",
       "      <td>1</td>\n",
       "      <td>112542.58</td>\n",
       "      <td>0</td>\n",
       "      <td>0</td>\n",
       "      <td>0</td>\n",
       "      <td>1</td>\n",
       "      <td>1</td>\n",
       "    </tr>\n",
       "    <tr>\n",
       "      <th>2</th>\n",
       "      <td>2</td>\n",
       "      <td>502</td>\n",
       "      <td>42</td>\n",
       "      <td>8</td>\n",
       "      <td>159660.80</td>\n",
       "      <td>3</td>\n",
       "      <td>1</td>\n",
       "      <td>0</td>\n",
       "      <td>113931.57</td>\n",
       "      <td>1</td>\n",
       "      <td>1</td>\n",
       "      <td>0</td>\n",
       "      <td>0</td>\n",
       "      <td>1</td>\n",
       "    </tr>\n",
       "    <tr>\n",
       "      <th>3</th>\n",
       "      <td>3</td>\n",
       "      <td>699</td>\n",
       "      <td>39</td>\n",
       "      <td>1</td>\n",
       "      <td>0.00</td>\n",
       "      <td>2</td>\n",
       "      <td>0</td>\n",
       "      <td>0</td>\n",
       "      <td>93826.63</td>\n",
       "      <td>0</td>\n",
       "      <td>1</td>\n",
       "      <td>0</td>\n",
       "      <td>0</td>\n",
       "      <td>1</td>\n",
       "    </tr>\n",
       "    <tr>\n",
       "      <th>4</th>\n",
       "      <td>4</td>\n",
       "      <td>850</td>\n",
       "      <td>43</td>\n",
       "      <td>2</td>\n",
       "      <td>125510.82</td>\n",
       "      <td>1</td>\n",
       "      <td>1</td>\n",
       "      <td>1</td>\n",
       "      <td>79084.10</td>\n",
       "      <td>0</td>\n",
       "      <td>0</td>\n",
       "      <td>0</td>\n",
       "      <td>1</td>\n",
       "      <td>1</td>\n",
       "    </tr>\n",
       "  </tbody>\n",
       "</table>\n",
       "</div>"
      ],
      "text/plain": [
       "   Unnamed: 0  CreditScore  Age  Tenure    Balance  NumOfProducts  HasCrCard  \\\n",
       "0           0          619   42       2       0.00              1          1   \n",
       "1           1          608   41       1   83807.86              1          0   \n",
       "2           2          502   42       8  159660.80              3          1   \n",
       "3           3          699   39       1       0.00              2          0   \n",
       "4           4          850   43       2  125510.82              1          1   \n",
       "\n",
       "   IsActiveMember  EstimatedSalary  Exited  Geography_France  \\\n",
       "0               1        101348.88       1                 1   \n",
       "1               1        112542.58       0                 0   \n",
       "2               0        113931.57       1                 1   \n",
       "3               0         93826.63       0                 1   \n",
       "4               1         79084.10       0                 0   \n",
       "\n",
       "   Geography_Germany  Geography_Spain  Gender  \n",
       "0                  0                0       1  \n",
       "1                  0                1       1  \n",
       "2                  0                0       1  \n",
       "3                  0                0       1  \n",
       "4                  0                1       1  "
      ]
     },
     "execution_count": 2,
     "metadata": {},
     "output_type": "execute_result"
    }
   ],
   "source": [
    "#reading the file\n",
    "data = pd.read_csv('../../Data/f_churn.csv')\n",
    "data.head()"
   ]
  },
  {
   "cell_type": "code",
   "execution_count": 3,
   "id": "8e873d53",
   "metadata": {},
   "outputs": [
    {
     "data": {
      "text/html": [
       "<div>\n",
       "<style scoped>\n",
       "    .dataframe tbody tr th:only-of-type {\n",
       "        vertical-align: middle;\n",
       "    }\n",
       "\n",
       "    .dataframe tbody tr th {\n",
       "        vertical-align: top;\n",
       "    }\n",
       "\n",
       "    .dataframe thead th {\n",
       "        text-align: right;\n",
       "    }\n",
       "</style>\n",
       "<table border=\"1\" class=\"dataframe\">\n",
       "  <thead>\n",
       "    <tr style=\"text-align: right;\">\n",
       "      <th></th>\n",
       "      <th>CreditScore</th>\n",
       "      <th>Age</th>\n",
       "      <th>Tenure</th>\n",
       "      <th>Balance</th>\n",
       "      <th>NumOfProducts</th>\n",
       "      <th>HasCrCard</th>\n",
       "      <th>IsActiveMember</th>\n",
       "      <th>EstimatedSalary</th>\n",
       "      <th>Geography_France</th>\n",
       "      <th>Geography_Germany</th>\n",
       "      <th>Geography_Spain</th>\n",
       "      <th>Gender</th>\n",
       "    </tr>\n",
       "  </thead>\n",
       "  <tbody>\n",
       "    <tr>\n",
       "      <th>0</th>\n",
       "      <td>619</td>\n",
       "      <td>42</td>\n",
       "      <td>2</td>\n",
       "      <td>0.00</td>\n",
       "      <td>1</td>\n",
       "      <td>1</td>\n",
       "      <td>1</td>\n",
       "      <td>101348.88</td>\n",
       "      <td>1</td>\n",
       "      <td>0</td>\n",
       "      <td>0</td>\n",
       "      <td>1</td>\n",
       "    </tr>\n",
       "    <tr>\n",
       "      <th>1</th>\n",
       "      <td>608</td>\n",
       "      <td>41</td>\n",
       "      <td>1</td>\n",
       "      <td>83807.86</td>\n",
       "      <td>1</td>\n",
       "      <td>0</td>\n",
       "      <td>1</td>\n",
       "      <td>112542.58</td>\n",
       "      <td>0</td>\n",
       "      <td>0</td>\n",
       "      <td>1</td>\n",
       "      <td>1</td>\n",
       "    </tr>\n",
       "    <tr>\n",
       "      <th>2</th>\n",
       "      <td>502</td>\n",
       "      <td>42</td>\n",
       "      <td>8</td>\n",
       "      <td>159660.80</td>\n",
       "      <td>3</td>\n",
       "      <td>1</td>\n",
       "      <td>0</td>\n",
       "      <td>113931.57</td>\n",
       "      <td>1</td>\n",
       "      <td>0</td>\n",
       "      <td>0</td>\n",
       "      <td>1</td>\n",
       "    </tr>\n",
       "    <tr>\n",
       "      <th>3</th>\n",
       "      <td>699</td>\n",
       "      <td>39</td>\n",
       "      <td>1</td>\n",
       "      <td>0.00</td>\n",
       "      <td>2</td>\n",
       "      <td>0</td>\n",
       "      <td>0</td>\n",
       "      <td>93826.63</td>\n",
       "      <td>1</td>\n",
       "      <td>0</td>\n",
       "      <td>0</td>\n",
       "      <td>1</td>\n",
       "    </tr>\n",
       "    <tr>\n",
       "      <th>4</th>\n",
       "      <td>850</td>\n",
       "      <td>43</td>\n",
       "      <td>2</td>\n",
       "      <td>125510.82</td>\n",
       "      <td>1</td>\n",
       "      <td>1</td>\n",
       "      <td>1</td>\n",
       "      <td>79084.10</td>\n",
       "      <td>0</td>\n",
       "      <td>0</td>\n",
       "      <td>1</td>\n",
       "      <td>1</td>\n",
       "    </tr>\n",
       "  </tbody>\n",
       "</table>\n",
       "</div>"
      ],
      "text/plain": [
       "   CreditScore  Age  Tenure    Balance  NumOfProducts  HasCrCard  \\\n",
       "0          619   42       2       0.00              1          1   \n",
       "1          608   41       1   83807.86              1          0   \n",
       "2          502   42       8  159660.80              3          1   \n",
       "3          699   39       1       0.00              2          0   \n",
       "4          850   43       2  125510.82              1          1   \n",
       "\n",
       "   IsActiveMember  EstimatedSalary  Geography_France  Geography_Germany  \\\n",
       "0               1        101348.88                 1                  0   \n",
       "1               1        112542.58                 0                  0   \n",
       "2               0        113931.57                 1                  0   \n",
       "3               0         93826.63                 1                  0   \n",
       "4               1         79084.10                 0                  0   \n",
       "\n",
       "   Geography_Spain  Gender  \n",
       "0                0       1  \n",
       "1                1       1  \n",
       "2                0       1  \n",
       "3                0       1  \n",
       "4                1       1  "
      ]
     },
     "execution_count": 3,
     "metadata": {},
     "output_type": "execute_result"
    }
   ],
   "source": [
    "data = data.drop(['Unnamed: 0', 'Exited'], axis =1 )\n",
    "data.head()"
   ]
  },
  {
   "cell_type": "code",
   "execution_count": 4,
   "id": "13bdbf6c",
   "metadata": {},
   "outputs": [
    {
     "data": {
      "text/plain": [
       "(10000, 12)"
      ]
     },
     "execution_count": 4,
     "metadata": {},
     "output_type": "execute_result"
    }
   ],
   "source": [
    "#shape of the data\n",
    "data.shape"
   ]
  },
  {
   "cell_type": "code",
   "execution_count": 5,
   "id": "dabb439c",
   "metadata": {},
   "outputs": [
    {
     "data": {
      "text/html": [
       "<div>\n",
       "<style scoped>\n",
       "    .dataframe tbody tr th:only-of-type {\n",
       "        vertical-align: middle;\n",
       "    }\n",
       "\n",
       "    .dataframe tbody tr th {\n",
       "        vertical-align: top;\n",
       "    }\n",
       "\n",
       "    .dataframe thead th {\n",
       "        text-align: right;\n",
       "    }\n",
       "</style>\n",
       "<table border=\"1\" class=\"dataframe\">\n",
       "  <thead>\n",
       "    <tr style=\"text-align: right;\">\n",
       "      <th></th>\n",
       "      <th>CreditScore</th>\n",
       "      <th>Age</th>\n",
       "      <th>Tenure</th>\n",
       "      <th>Balance</th>\n",
       "      <th>NumOfProducts</th>\n",
       "      <th>HasCrCard</th>\n",
       "      <th>IsActiveMember</th>\n",
       "      <th>EstimatedSalary</th>\n",
       "      <th>Geography_France</th>\n",
       "      <th>Geography_Germany</th>\n",
       "      <th>Geography_Spain</th>\n",
       "      <th>Gender</th>\n",
       "    </tr>\n",
       "  </thead>\n",
       "  <tbody>\n",
       "    <tr>\n",
       "      <th>0</th>\n",
       "      <td>-0.326221</td>\n",
       "      <td>0.293517</td>\n",
       "      <td>-1.041760</td>\n",
       "      <td>-1.225848</td>\n",
       "      <td>-0.911583</td>\n",
       "      <td>0.646092</td>\n",
       "      <td>0.970243</td>\n",
       "      <td>0.021886</td>\n",
       "      <td>0.997204</td>\n",
       "      <td>-0.578736</td>\n",
       "      <td>-0.573809</td>\n",
       "      <td>1.095988</td>\n",
       "    </tr>\n",
       "    <tr>\n",
       "      <th>1</th>\n",
       "      <td>-0.440036</td>\n",
       "      <td>0.198164</td>\n",
       "      <td>-1.387538</td>\n",
       "      <td>0.117350</td>\n",
       "      <td>-0.911583</td>\n",
       "      <td>-1.547768</td>\n",
       "      <td>0.970243</td>\n",
       "      <td>0.216534</td>\n",
       "      <td>-1.002804</td>\n",
       "      <td>-0.578736</td>\n",
       "      <td>1.742740</td>\n",
       "      <td>1.095988</td>\n",
       "    </tr>\n",
       "    <tr>\n",
       "      <th>2</th>\n",
       "      <td>-1.536794</td>\n",
       "      <td>0.293517</td>\n",
       "      <td>1.032908</td>\n",
       "      <td>1.333053</td>\n",
       "      <td>2.527057</td>\n",
       "      <td>0.646092</td>\n",
       "      <td>-1.030670</td>\n",
       "      <td>0.240687</td>\n",
       "      <td>0.997204</td>\n",
       "      <td>-0.578736</td>\n",
       "      <td>-0.573809</td>\n",
       "      <td>1.095988</td>\n",
       "    </tr>\n",
       "    <tr>\n",
       "      <th>3</th>\n",
       "      <td>0.501521</td>\n",
       "      <td>0.007457</td>\n",
       "      <td>-1.387538</td>\n",
       "      <td>-1.225848</td>\n",
       "      <td>0.807737</td>\n",
       "      <td>-1.547768</td>\n",
       "      <td>-1.030670</td>\n",
       "      <td>-0.108918</td>\n",
       "      <td>0.997204</td>\n",
       "      <td>-0.578736</td>\n",
       "      <td>-0.573809</td>\n",
       "      <td>1.095988</td>\n",
       "    </tr>\n",
       "    <tr>\n",
       "      <th>4</th>\n",
       "      <td>2.063884</td>\n",
       "      <td>0.388871</td>\n",
       "      <td>-1.041760</td>\n",
       "      <td>0.785728</td>\n",
       "      <td>-0.911583</td>\n",
       "      <td>0.646092</td>\n",
       "      <td>0.970243</td>\n",
       "      <td>-0.365276</td>\n",
       "      <td>-1.002804</td>\n",
       "      <td>-0.578736</td>\n",
       "      <td>1.742740</td>\n",
       "      <td>1.095988</td>\n",
       "    </tr>\n",
       "  </tbody>\n",
       "</table>\n",
       "</div>"
      ],
      "text/plain": [
       "   CreditScore       Age    Tenure   Balance  NumOfProducts  HasCrCard  \\\n",
       "0    -0.326221  0.293517 -1.041760 -1.225848      -0.911583   0.646092   \n",
       "1    -0.440036  0.198164 -1.387538  0.117350      -0.911583  -1.547768   \n",
       "2    -1.536794  0.293517  1.032908  1.333053       2.527057   0.646092   \n",
       "3     0.501521  0.007457 -1.387538 -1.225848       0.807737  -1.547768   \n",
       "4     2.063884  0.388871 -1.041760  0.785728      -0.911583   0.646092   \n",
       "\n",
       "   IsActiveMember  EstimatedSalary  Geography_France  Geography_Germany  \\\n",
       "0        0.970243         0.021886          0.997204          -0.578736   \n",
       "1        0.970243         0.216534         -1.002804          -0.578736   \n",
       "2       -1.030670         0.240687          0.997204          -0.578736   \n",
       "3       -1.030670        -0.108918          0.997204          -0.578736   \n",
       "4        0.970243        -0.365276         -1.002804          -0.578736   \n",
       "\n",
       "   Geography_Spain    Gender  \n",
       "0        -0.573809  1.095988  \n",
       "1         1.742740  1.095988  \n",
       "2        -0.573809  1.095988  \n",
       "3        -0.573809  1.095988  \n",
       "4         1.742740  1.095988  "
      ]
     },
     "execution_count": 5,
     "metadata": {},
     "output_type": "execute_result"
    }
   ],
   "source": [
    "scaler =  StandardScaler()\n",
    "df = scaler.fit_transform(data)\n",
    "\n",
    "df = pd.DataFrame(data=df,columns=data.columns)\n",
    "df.head()"
   ]
  },
  {
   "cell_type": "code",
   "execution_count": 6,
   "id": "e1e97127",
   "metadata": {},
   "outputs": [
    {
     "name": "stdout",
     "output_type": "stream",
     "text": [
      "Bartlett Sphericity Test\n",
      "Chi squared value :  nan\n",
      "p value :  nan\n"
     ]
    },
    {
     "name": "stderr",
     "output_type": "stream",
     "text": [
      "C:\\Users\\ASUS\\anaconda3\\lib\\site-packages\\factor_analyzer\\factor_analyzer.py:108: RuntimeWarning: invalid value encountered in log\n",
      "  statistic = -np.log(corr_det) * (n - 1 - (2 * p + 5) / 6)\n"
     ]
    }
   ],
   "source": [
    "chi2,p = calculate_bartlett_sphericity(df)\n",
    "\n",
    "print(\"Bartlett Sphericity Test\")\n",
    "print(\"Chi squared value : \",chi2)\n",
    "print(\"p value : \",p)"
   ]
  },
  {
   "cell_type": "code",
   "execution_count": 7,
   "id": "ce811208",
   "metadata": {},
   "outputs": [
    {
     "name": "stdout",
     "output_type": "stream",
     "text": [
      "KMO Test Statisitc 0.4863760735548008\n"
     ]
    },
    {
     "name": "stderr",
     "output_type": "stream",
     "text": [
      "C:\\Users\\ASUS\\anaconda3\\lib\\site-packages\\factor_analyzer\\utils.py:244: UserWarning: The inverse of the variance-covariance matrix was calculated using the Moore-Penrose generalized matrix inversion, due to its determinant being at or very close to zero.\n",
      "  warnings.warn(\n"
     ]
    }
   ],
   "source": [
    "kmo_all,kmo_model = calculate_kmo(df)\n",
    "print(\"KMO Test Statisitc\",kmo_model)"
   ]
  },
  {
   "cell_type": "code",
   "execution_count": 8,
   "id": "07d33ea4",
   "metadata": {},
   "outputs": [],
   "source": [
    "fa = FactorAnalyzer(rotation = None,impute = \"drop\",n_factors=df.shape[1])"
   ]
  },
  {
   "cell_type": "code",
   "execution_count": 9,
   "id": "8c125726",
   "metadata": {},
   "outputs": [
    {
     "data": {
      "text/plain": [
       "FactorAnalyzer(impute='drop', n_factors=12, rotation=None, rotation_kwargs={})"
      ]
     },
     "execution_count": 9,
     "metadata": {},
     "output_type": "execute_result"
    }
   ],
   "source": [
    "fa.fit(df)"
   ]
  },
  {
   "cell_type": "code",
   "execution_count": 10,
   "id": "96844aa9",
   "metadata": {},
   "outputs": [
    {
     "data": {
      "text/plain": [
       "FactorAnalyzer(impute='drop', n_factors=12, rotation=None, rotation_kwargs={})"
      ]
     },
     "execution_count": 10,
     "metadata": {},
     "output_type": "execute_result"
    }
   ],
   "source": [
    "fa.fit(df)"
   ]
  },
  {
   "cell_type": "code",
   "execution_count": 12,
   "id": "14e475ee",
   "metadata": {},
   "outputs": [],
   "source": [
    "ev,_ = fa.get_eigenvalues()"
   ]
  },
  {
   "cell_type": "code",
   "execution_count": 13,
   "id": "41d39121",
   "metadata": {},
   "outputs": [
    {
     "data": {
      "image/png": "[encoded data removed]",
      "text/plain": [
       "<Figure size 640x480 with 1 Axes>"
      ]
     },
     "metadata": {},
     "output_type": "display_data"
    }
   ],
   "source": [
    "plt.scatter(range(1,df.shape[1]+1),ev)\n",
    "plt.plot(range(1,df.shape[1]+1),ev)\n",
    "plt.title('Scree Plot')\n",
    "plt.xlabel('Factors')\n",
    "plt.ylabel('Eigen Value')\n",
    "plt.grid()"
   ]
  },
  {
   "cell_type": "code",
   "execution_count": 15,
   "id": "f0438200",
   "metadata": {},
   "outputs": [
    {
     "data": {
      "text/plain": [
       "FactorAnalyzer(n_factors=4, rotation='varimax', rotation_kwargs={})"
      ]
     },
     "execution_count": 15,
     "metadata": {},
     "output_type": "execute_result"
    }
   ],
   "source": [
    "fa = FactorAnalyzer(n_factors=4,rotation='varimax')\n",
    "fa.fit(df)"
   ]
  },
  {
   "cell_type": "code",
   "execution_count": 19,
   "id": "0272a39f",
   "metadata": {},
   "outputs": [
    {
     "name": "stdout",
     "output_type": "stream",
     "text": [
      "     EigenValues\n",
      "0   1.865929e+00\n",
      "1   1.504251e+00\n",
      "2   1.118452e+00\n",
      "3   1.093858e+00\n",
      "4   1.022979e+00\n",
      "5   1.007161e+00\n",
      "6   9.977202e-01\n",
      "7   9.857749e-01\n",
      "8   9.714571e-01\n",
      "9   8.894847e-01\n",
      "10  5.429325e-01\n",
      "11 -7.833430e-16\n"
     ]
    }
   ],
   "source": [
    "with np.printoptions(suppress=True,precision=4):\n",
    "    print(pd.DataFrame(fa.get_eigenvalues()[0],columns=['EigenValues']))"
   ]
  },
  {
   "cell_type": "code",
   "execution_count": 20,
   "id": "36b7691f",
   "metadata": {},
   "outputs": [
    {
     "name": "stdout",
     "output_type": "stream",
     "text": [
      "                          0         1         2         3\n",
      "CreditScore        0.006145 -0.001822  0.028471  0.003241\n",
      "Age                0.007512  0.054325  0.083478 -0.034203\n",
      "Tenure             0.008243 -0.012465 -0.022540  0.024257\n",
      "Balance           -0.003836  0.566912 -0.006164 -0.100413\n",
      "NumOfProducts      0.070958 -0.437259  0.181006  0.547662\n",
      "HasCrCard         -0.006966 -0.002249 -0.007643  0.020570\n",
      "IsActiveMember    -0.080011 -0.067534  0.933799 -0.334831\n",
      "EstimatedSalary   -0.000240  0.004864 -0.005417  0.020332\n",
      "Geography_France  -0.854694 -0.449143 -0.170065 -0.189360\n",
      "Geography_Germany  0.088837  0.804950  0.235408  0.534172\n",
      "Geography_Spain    0.900748 -0.288180 -0.039438 -0.317137\n",
      "Gender            -0.001877  0.000187 -0.004471  0.046067\n"
     ]
    }
   ],
   "source": [
    "with np.printoptions(suppress=True,precision=4):\n",
    "    print(pd.DataFrame(fa.loadings_,index=df.columns))"
   ]
  },
  {
   "cell_type": "code",
   "execution_count": 21,
   "id": "e20c9b3f",
   "metadata": {},
   "outputs": [
    {
     "name": "stdout",
     "output_type": "stream",
     "text": [
      "                         0         1         2         3\n",
      "Variance          1.561408  1.453006  0.999071  0.848628\n",
      "Proportional Var  0.130117  0.121084  0.083256  0.070719\n",
      "Cumulative Var    0.130117  0.251201  0.334457  0.405176\n"
     ]
    }
   ],
   "source": [
    "with np.printoptions(suppress=True,precision=4):\n",
    "    print(pd.DataFrame(fa.get_factor_variance(),index=['Variance','Proportional Var','Cumulative Var']))"
   ]
  },
  {
   "cell_type": "code",
   "execution_count": 22,
   "id": "22f81c2d",
   "metadata": {},
   "outputs": [
    {
     "name": "stdout",
     "output_type": "stream",
     "text": [
      "                   Uniqueness\n",
      "CreditScore          0.999138\n",
      "Age                  0.988854\n",
      "Tenure               0.998680\n",
      "Balance              0.668475\n",
      "NumOfProducts        0.471073\n",
      "HasCrCard            0.999465\n",
      "IsActiveMember       0.004944\n",
      "EstimatedSalary      0.999534\n",
      "Geography_France     0.002989\n",
      "Geography_Germany    0.003406\n",
      "Geography_Spain      0.003473\n",
      "Gender               0.997854\n"
     ]
    }
   ],
   "source": [
    "with np.printoptions(suppress=True,precision=4):\n",
    "    print(pd.DataFrame(fa.get_uniquenesses(),index=df.columns,columns=['Uniqueness']))"
   ]
  },
  {
   "cell_type": "code",
   "execution_count": 24,
   "id": "8397f41d",
   "metadata": {},
   "outputs": [
    {
     "name": "stdout",
     "output_type": "stream",
     "text": [
      "                   Communalities\n",
      "CreditScore             0.000862\n",
      "Age                     0.011146\n",
      "Tenure                  0.001320\n",
      "Balance                 0.331525\n",
      "NumOfProducts           0.528927\n",
      "HasCrCard               0.000535\n",
      "IsActiveMember          0.995056\n",
      "EstimatedSalary         0.000466\n",
      "Geography_France        0.997011\n",
      "Geography_Germany       0.996594\n",
      "Geography_Spain         0.996527\n",
      "Gender                  0.002146\n"
     ]
    }
   ],
   "source": [
    "with np.printoptions(precision=4,suppress=True):\n",
    "    print(pd.DataFrame(fa.get_communalities(),index=df.columns,columns=['Communalities']))"
   ]
  },
  {
   "cell_type": "code",
   "execution_count": 25,
   "id": "69034ab4",
   "metadata": {},
   "outputs": [],
   "source": [
    "factor_df= pd.DataFrame(fa.loadings_,index=df.columns, columns=['Factor1', 'Factor2', 'Factor3' , 'Factor4'])"
   ]
  },
  {
   "cell_type": "code",
   "execution_count": 26,
   "id": "934cd547",
   "metadata": {},
   "outputs": [
    {
     "data": {
      "text/html": [
       "<div>\n",
       "<style scoped>\n",
       "    .dataframe tbody tr th:only-of-type {\n",
       "        vertical-align: middle;\n",
       "    }\n",
       "\n",
       "    .dataframe tbody tr th {\n",
       "        vertical-align: top;\n",
       "    }\n",
       "\n",
       "    .dataframe thead th {\n",
       "        text-align: right;\n",
       "    }\n",
       "</style>\n",
       "<table border=\"1\" class=\"dataframe\">\n",
       "  <thead>\n",
       "    <tr style=\"text-align: right;\">\n",
       "      <th></th>\n",
       "      <th>Factor1</th>\n",
       "      <th>Factor2</th>\n",
       "      <th>Factor3</th>\n",
       "      <th>Factor4</th>\n",
       "    </tr>\n",
       "  </thead>\n",
       "  <tbody>\n",
       "    <tr>\n",
       "      <th>CreditScore</th>\n",
       "      <td>0.006145</td>\n",
       "      <td>-0.001822</td>\n",
       "      <td>0.028471</td>\n",
       "      <td>0.003241</td>\n",
       "    </tr>\n",
       "    <tr>\n",
       "      <th>Age</th>\n",
       "      <td>0.007512</td>\n",
       "      <td>0.054325</td>\n",
       "      <td>0.083478</td>\n",
       "      <td>-0.034203</td>\n",
       "    </tr>\n",
       "    <tr>\n",
       "      <th>Tenure</th>\n",
       "      <td>0.008243</td>\n",
       "      <td>-0.012465</td>\n",
       "      <td>-0.022540</td>\n",
       "      <td>0.024257</td>\n",
       "    </tr>\n",
       "    <tr>\n",
       "      <th>Balance</th>\n",
       "      <td>-0.003836</td>\n",
       "      <td>0.566912</td>\n",
       "      <td>-0.006164</td>\n",
       "      <td>-0.100413</td>\n",
       "    </tr>\n",
       "    <tr>\n",
       "      <th>NumOfProducts</th>\n",
       "      <td>0.070958</td>\n",
       "      <td>-0.437259</td>\n",
       "      <td>0.181006</td>\n",
       "      <td>0.547662</td>\n",
       "    </tr>\n",
       "    <tr>\n",
       "      <th>HasCrCard</th>\n",
       "      <td>-0.006966</td>\n",
       "      <td>-0.002249</td>\n",
       "      <td>-0.007643</td>\n",
       "      <td>0.020570</td>\n",
       "    </tr>\n",
       "    <tr>\n",
       "      <th>IsActiveMember</th>\n",
       "      <td>-0.080011</td>\n",
       "      <td>-0.067534</td>\n",
       "      <td>0.933799</td>\n",
       "      <td>-0.334831</td>\n",
       "    </tr>\n",
       "    <tr>\n",
       "      <th>EstimatedSalary</th>\n",
       "      <td>-0.000240</td>\n",
       "      <td>0.004864</td>\n",
       "      <td>-0.005417</td>\n",
       "      <td>0.020332</td>\n",
       "    </tr>\n",
       "    <tr>\n",
       "      <th>Geography_France</th>\n",
       "      <td>-0.854694</td>\n",
       "      <td>-0.449143</td>\n",
       "      <td>-0.170065</td>\n",
       "      <td>-0.189360</td>\n",
       "    </tr>\n",
       "    <tr>\n",
       "      <th>Geography_Germany</th>\n",
       "      <td>0.088837</td>\n",
       "      <td>0.804950</td>\n",
       "      <td>0.235408</td>\n",
       "      <td>0.534172</td>\n",
       "    </tr>\n",
       "    <tr>\n",
       "      <th>Geography_Spain</th>\n",
       "      <td>0.900748</td>\n",
       "      <td>-0.288180</td>\n",
       "      <td>-0.039438</td>\n",
       "      <td>-0.317137</td>\n",
       "    </tr>\n",
       "    <tr>\n",
       "      <th>Gender</th>\n",
       "      <td>-0.001877</td>\n",
       "      <td>0.000187</td>\n",
       "      <td>-0.004471</td>\n",
       "      <td>0.046067</td>\n",
       "    </tr>\n",
       "  </tbody>\n",
       "</table>\n",
       "</div>"
      ],
      "text/plain": [
       "                    Factor1   Factor2   Factor3   Factor4\n",
       "CreditScore        0.006145 -0.001822  0.028471  0.003241\n",
       "Age                0.007512  0.054325  0.083478 -0.034203\n",
       "Tenure             0.008243 -0.012465 -0.022540  0.024257\n",
       "Balance           -0.003836  0.566912 -0.006164 -0.100413\n",
       "NumOfProducts      0.070958 -0.437259  0.181006  0.547662\n",
       "HasCrCard         -0.006966 -0.002249 -0.007643  0.020570\n",
       "IsActiveMember    -0.080011 -0.067534  0.933799 -0.334831\n",
       "EstimatedSalary   -0.000240  0.004864 -0.005417  0.020332\n",
       "Geography_France  -0.854694 -0.449143 -0.170065 -0.189360\n",
       "Geography_Germany  0.088837  0.804950  0.235408  0.534172\n",
       "Geography_Spain    0.900748 -0.288180 -0.039438 -0.317137\n",
       "Gender            -0.001877  0.000187 -0.004471  0.046067"
      ]
     },
     "execution_count": 26,
     "metadata": {},
     "output_type": "execute_result"
    }
   ],
   "source": [
    "factor_df"
   ]
  }
 ],
 "metadata": {
  "kernelspec": {
   "display_name": "Python 3 (ipykernel)",
   "language": "python",
   "name": "python3"
  },
  "language_info": {
   "codemirror_mode": {
    "name": "ipython",
    "version": 3
   },
   "file_extension": ".py",
   "mimetype": "text/x-python",
   "name": "python",
   "nbconvert_exporter": "python",
   "pygments_lexer": "ipython3",
   "version": "3.9.13"
  }
 },
 "nbformat": 4,
 "nbformat_minor": 5
}
