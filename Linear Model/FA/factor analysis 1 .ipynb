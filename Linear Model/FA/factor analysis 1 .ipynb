{
 "cells": [
  {
   "cell_type": "code",
   "execution_count": 2,
   "id": "4cb6829b",
   "metadata": {},
   "outputs": [
    {
     "name": "stdout",
     "output_type": "stream",
     "text": [
      "Collecting factor_analyzer\n",
      "  Downloading factor_analyzer-0.4.1.tar.gz (41 kB)\n",
      "     -------------------------------------- 41.8/41.8 kB 335.9 kB/s eta 0:00:00\n",
      "  Installing build dependencies: started\n",
      "  Installing build dependencies: finished with status 'done'\n",
      "  Getting requirements to build wheel: started\n",
      "  Getting requirements to build wheel: finished with status 'done'\n",
      "  Preparing metadata (pyproject.toml): started\n",
      "  Preparing metadata (pyproject.toml): finished with status 'done'\n",
      "Requirement already satisfied: scikit-learn in c:\\users\\user\\anaconda3\\lib\\site-packages (from factor_analyzer) (1.0.2)\n",
      "Collecting pre-commit\n",
      "  Downloading pre_commit-2.21.0-py2.py3-none-any.whl (201 kB)\n",
      "     ------------------------------------ 201.9/201.9 kB 679.8 kB/s eta 0:00:00\n",
      "Requirement already satisfied: pandas in c:\\users\\user\\anaconda3\\lib\\site-packages (from factor_analyzer) (1.4.4)\n",
      "Requirement already satisfied: scipy in c:\\users\\user\\anaconda3\\lib\\site-packages (from factor_analyzer) (1.9.1)\n",
      "Requirement already satisfied: numpy in c:\\users\\user\\anaconda3\\lib\\site-packages (from factor_analyzer) (1.21.5)\n",
      "Requirement already satisfied: pytz>=2020.1 in c:\\users\\user\\anaconda3\\lib\\site-packages (from pandas->factor_analyzer) (2022.1)\n",
      "Requirement already satisfied: python-dateutil>=2.8.1 in c:\\users\\user\\anaconda3\\lib\\site-packages (from pandas->factor_analyzer) (2.8.2)\n",
      "Collecting nodeenv>=0.11.1\n",
      "  Downloading nodeenv-1.7.0-py2.py3-none-any.whl (21 kB)\n",
      "Requirement already satisfied: pyyaml>=5.1 in c:\\users\\user\\anaconda3\\lib\\site-packages (from pre-commit->factor_analyzer) (6.0)\n",
      "Collecting cfgv>=2.0.0\n",
      "  Downloading cfgv-3.3.1-py2.py3-none-any.whl (7.3 kB)\n",
      "Collecting virtualenv>=20.10.0\n",
      "  Downloading virtualenv-20.17.1-py3-none-any.whl (8.8 MB)\n",
      "     ---------------------------------------- 8.8/8.8 MB 789.0 kB/s eta 0:00:00\n",
      "Collecting identify>=1.0.0\n",
      "  Downloading identify-2.5.11-py2.py3-none-any.whl (98 kB)\n",
      "     -------------------------------------- 98.8/98.8 kB 218.1 kB/s eta 0:00:00\n",
      "Requirement already satisfied: threadpoolctl>=2.0.0 in c:\\users\\user\\anaconda3\\lib\\site-packages (from scikit-learn->factor_analyzer) (2.2.0)\n",
      "Requirement already satisfied: joblib>=0.11 in c:\\users\\user\\anaconda3\\lib\\site-packages (from scikit-learn->factor_analyzer) (1.1.0)\n",
      "Requirement already satisfied: setuptools in c:\\users\\user\\anaconda3\\lib\\site-packages (from nodeenv>=0.11.1->pre-commit->factor_analyzer) (63.4.1)\n",
      "Requirement already satisfied: six>=1.5 in c:\\users\\user\\anaconda3\\lib\\site-packages (from python-dateutil>=2.8.1->pandas->factor_analyzer) (1.16.0)\n",
      "Requirement already satisfied: filelock<4,>=3.4.1 in c:\\users\\user\\anaconda3\\lib\\site-packages (from virtualenv>=20.10.0->pre-commit->factor_analyzer) (3.6.0)\n",
      "Collecting distlib<1,>=0.3.6\n",
      "  Downloading distlib-0.3.6-py2.py3-none-any.whl (468 kB)\n",
      "     ------------------------------------ 468.5/468.5 kB 212.6 kB/s eta 0:00:00\n",
      "Requirement already satisfied: platformdirs<3,>=2.4 in c:\\users\\user\\anaconda3\\lib\\site-packages (from virtualenv>=20.10.0->pre-commit->factor_analyzer) (2.5.2)\n",
      "Building wheels for collected packages: factor_analyzer\n",
      "  Building wheel for factor_analyzer (pyproject.toml): started\n",
      "  Building wheel for factor_analyzer (pyproject.toml): finished with status 'done'\n",
      "  Created wheel for factor_analyzer: filename=factor_analyzer-0.4.1-py2.py3-none-any.whl size=42070 sha256=c36a714458667ac7ae64625e8a3a09dd208b03aaed0c5c3918cb922a43542f2b\n",
      "  Stored in directory: c:\\users\\user\\appdata\\local\\pip\\cache\\wheels\\6d\\32\\bd\\460a71becd83f7d77152f437c2fd451f5c87bc19cfcdbfcd24\n",
      "Successfully built factor_analyzer\n",
      "Installing collected packages: distlib, virtualenv, nodeenv, identify, cfgv, pre-commit, factor_analyzer\n",
      "Successfully installed cfgv-3.3.1 distlib-0.3.6 factor_analyzer-0.4.1 identify-2.5.11 nodeenv-1.7.0 pre-commit-2.21.0 virtualenv-20.17.1\n",
      "Collecting factor_analyzer\n",
      "  Using cached factor_analyzer-0.4.1.tar.gz (41 kB)\n",
      "  Installing build dependencies: started\n",
      "  Installing build dependencies: finished with status 'done'\n",
      "  Getting requirements to build wheel: started\n",
      "  Getting requirements to build wheel: finished with status 'done'\n",
      "  Preparing metadata (pyproject.toml): started\n",
      "  Preparing metadata (pyproject.toml): finished with status 'done'\n",
      "Requirement already satisfied: numpy in c:\\users\\user\\anaconda3\\lib\\site-packages (from factor_analyzer) (1.21.5)\n",
      "Collecting pre-commit\n",
      "  Using cached pre_commit-2.21.0-py2.py3-none-any.whl (201 kB)\n",
      "Requirement already satisfied: scikit-learn in c:\\users\\user\\anaconda3\\lib\\site-packages (from factor_analyzer) (1.0.2)\n",
      "Requirement already satisfied: scipy in c:\\users\\user\\anaconda3\\lib\\site-packages (from factor_analyzer) (1.9.1)\n",
      "Requirement already satisfied: pandas in c:\\users\\user\\anaconda3\\lib\\site-packages (from factor_analyzer) (1.4.4)\n",
      "Requirement already satisfied: pytz>=2020.1 in c:\\users\\user\\anaconda3\\lib\\site-packages (from pandas->factor_analyzer) (2022.1)\n",
      "Requirement already satisfied: python-dateutil>=2.8.1 in c:\\users\\user\\anaconda3\\lib\\site-packages (from pandas->factor_analyzer) (2.8.2)\n",
      "Collecting nodeenv>=0.11.1\n",
      "  Using cached nodeenv-1.7.0-py2.py3-none-any.whl (21 kB)\n",
      "Collecting virtualenv>=20.10.0\n",
      "  Downloading virtualenv-20.17.1-py3-none-any.whl (8.8 MB)\n",
      "     ---------------------------------------- 8.8/8.8 MB 137.0 kB/s eta 0:00:00\n",
      "Collecting cfgv>=2.0.0\n",
      "  Using cached cfgv-3.3.1-py2.py3-none-any.whl (7.3 kB)\n",
      "Requirement already satisfied: pyyaml>=5.1 in c:\\users\\user\\anaconda3\\lib\\site-packages (from pre-commit->factor_analyzer) (6.0)\n",
      "Collecting identify>=1.0.0\n",
      "  Using cached identify-2.5.11-py2.py3-none-any.whl (98 kB)\n",
      "Requirement already satisfied: threadpoolctl>=2.0.0 in c:\\users\\user\\anaconda3\\lib\\site-packages (from scikit-learn->factor_analyzer) (2.2.0)\n",
      "Requirement already satisfied: joblib>=0.11 in c:\\users\\user\\anaconda3\\lib\\site-packages (from scikit-learn->factor_analyzer) (1.1.0)\n",
      "Requirement already satisfied: setuptools in c:\\users\\user\\anaconda3\\lib\\site-packages (from nodeenv>=0.11.1->pre-commit->factor_analyzer) (63.4.1)\n",
      "Requirement already satisfied: six>=1.5 in c:\\users\\user\\anaconda3\\lib\\site-packages (from python-dateutil>=2.8.1->pandas->factor_analyzer) (1.16.0)\n",
      "Requirement already satisfied: platformdirs<3,>=2.4 in c:\\users\\user\\anaconda3\\lib\\site-packages (from virtualenv>=20.10.0->pre-commit->factor_analyzer) (2.5.2)\n",
      "Requirement already satisfied: filelock<4,>=3.4.1 in c:\\users\\user\\anaconda3\\lib\\site-packages (from virtualenv>=20.10.0->pre-commit->factor_analyzer) (3.6.0)\n",
      "Collecting distlib<1,>=0.3.6\n",
      "  Using cached distlib-0.3.6-py2.py3-none-any.whl (468 kB)\n",
      "Building wheels for collected packages: factor_analyzer\n",
      "  Building wheel for factor_analyzer (pyproject.toml): started\n",
      "  Building wheel for factor_analyzer (pyproject.toml): finished with status 'done'\n",
      "  Created wheel for factor_analyzer: filename=factor_analyzer-0.4.1-py2.py3-none-any.whl size=42070 sha256=4a33ccaf594285364e95c6888e3939d1d54ca3c63583b835b620d81a8a10ce1b\n",
      "  Stored in directory: c:\\users\\user\\appdata\\local\\pip\\cache\\wheels\\6d\\32\\bd\\460a71becd83f7d77152f437c2fd451f5c87bc19cfcdbfcd24\n",
      "Successfully built factor_analyzer\n",
      "Installing collected packages: distlib, virtualenv, nodeenv, identify, cfgv, pre-commit, factor_analyzer\n",
      "Successfully installed cfgv-3.3.1 distlib-0.3.6 factor_analyzer-0.4.1 identify-2.5.11 nodeenv-1.7.0 pre-commit-2.21.0 virtualenv-20.17.1\n"
     ]
    }
   ],
   "source": [
    "# !pip install factor_analyzer\n",
    "\n",
    "# Import required libraries\n",
    "import pandas as pd\n",
    "from sklearn.datasets import load_iris\n",
    "from factor_analyzer import FactorAnalyzer\n",
    "import matplotlib.pyplot as plt\n"
   ]
  },
  {
   "cell_type": "code",
   "execution_count": 3,
   "id": "644d10aa",
   "metadata": {},
   "outputs": [],
   "source": [
    "data = pd.read_csv('../../Data/f_win.csv')"
   ]
  },
  {
   "cell_type": "code",
   "execution_count": 5,
   "id": "549cf3d6",
   "metadata": {},
   "outputs": [],
   "source": [
    "data.drop(['Unnamed: 0', 'Win'], axis =1, inplace = True)"
   ]
  },
  {
   "cell_type": "code",
   "execution_count": 6,
   "id": "9cf0611f",
   "metadata": {},
   "outputs": [
    {
     "data": {
      "text/html": [
       "<div>\n",
       "<style scoped>\n",
       "    .dataframe tbody tr th:only-of-type {\n",
       "        vertical-align: middle;\n",
       "    }\n",
       "\n",
       "    .dataframe tbody tr th {\n",
       "        vertical-align: top;\n",
       "    }\n",
       "\n",
       "    .dataframe thead th {\n",
       "        text-align: right;\n",
       "    }\n",
       "</style>\n",
       "<table border=\"1\" class=\"dataframe\">\n",
       "  <thead>\n",
       "    <tr style=\"text-align: right;\">\n",
       "      <th></th>\n",
       "      <th>venue_code</th>\n",
       "      <th>opp_code</th>\n",
       "      <th>hour</th>\n",
       "      <th>day_code</th>\n",
       "      <th>gf_rolling</th>\n",
       "      <th>ga_rolling</th>\n",
       "      <th>sh_rolling</th>\n",
       "      <th>sot_rolling</th>\n",
       "      <th>dist_rolling</th>\n",
       "      <th>pk_rolling</th>\n",
       "      <th>pkatt_rolling</th>\n",
       "    </tr>\n",
       "  </thead>\n",
       "  <tbody>\n",
       "    <tr>\n",
       "      <th>0</th>\n",
       "      <td>1</td>\n",
       "      <td>16</td>\n",
       "      <td>15</td>\n",
       "      <td>5</td>\n",
       "      <td>0.000000</td>\n",
       "      <td>3.000000</td>\n",
       "      <td>9.666667</td>\n",
       "      <td>2.333333</td>\n",
       "      <td>14.833333</td>\n",
       "      <td>0.0</td>\n",
       "      <td>0.0</td>\n",
       "    </tr>\n",
       "    <tr>\n",
       "      <th>1</th>\n",
       "      <td>0</td>\n",
       "      <td>5</td>\n",
       "      <td>15</td>\n",
       "      <td>5</td>\n",
       "      <td>0.333333</td>\n",
       "      <td>2.333333</td>\n",
       "      <td>12.333333</td>\n",
       "      <td>3.000000</td>\n",
       "      <td>14.133333</td>\n",
       "      <td>0.0</td>\n",
       "      <td>0.0</td>\n",
       "    </tr>\n",
       "    <tr>\n",
       "      <th>2</th>\n",
       "      <td>1</td>\n",
       "      <td>19</td>\n",
       "      <td>16</td>\n",
       "      <td>6</td>\n",
       "      <td>0.666667</td>\n",
       "      <td>1.666667</td>\n",
       "      <td>14.666667</td>\n",
       "      <td>3.000000</td>\n",
       "      <td>14.800000</td>\n",
       "      <td>0.0</td>\n",
       "      <td>0.0</td>\n",
       "    </tr>\n",
       "    <tr>\n",
       "      <th>3</th>\n",
       "      <td>0</td>\n",
       "      <td>4</td>\n",
       "      <td>17</td>\n",
       "      <td>5</td>\n",
       "      <td>1.666667</td>\n",
       "      <td>0.333333</td>\n",
       "      <td>18.333333</td>\n",
       "      <td>5.333333</td>\n",
       "      <td>18.433333</td>\n",
       "      <td>0.0</td>\n",
       "      <td>0.0</td>\n",
       "    </tr>\n",
       "    <tr>\n",
       "      <th>4</th>\n",
       "      <td>1</td>\n",
       "      <td>7</td>\n",
       "      <td>20</td>\n",
       "      <td>0</td>\n",
       "      <td>1.333333</td>\n",
       "      <td>0.333333</td>\n",
       "      <td>11.000000</td>\n",
       "      <td>4.000000</td>\n",
       "      <td>19.833333</td>\n",
       "      <td>0.0</td>\n",
       "      <td>0.0</td>\n",
       "    </tr>\n",
       "  </tbody>\n",
       "</table>\n",
       "</div>"
      ],
      "text/plain": [
       "   venue_code  opp_code  hour  day_code  gf_rolling  ga_rolling  sh_rolling  \\\n",
       "0           1        16    15         5    0.000000    3.000000    9.666667   \n",
       "1           0         5    15         5    0.333333    2.333333   12.333333   \n",
       "2           1        19    16         6    0.666667    1.666667   14.666667   \n",
       "3           0         4    17         5    1.666667    0.333333   18.333333   \n",
       "4           1         7    20         0    1.333333    0.333333   11.000000   \n",
       "\n",
       "   sot_rolling  dist_rolling  pk_rolling  pkatt_rolling  \n",
       "0     2.333333     14.833333         0.0            0.0  \n",
       "1     3.000000     14.133333         0.0            0.0  \n",
       "2     3.000000     14.800000         0.0            0.0  \n",
       "3     5.333333     18.433333         0.0            0.0  \n",
       "4     4.000000     19.833333         0.0            0.0  "
      ]
     },
     "execution_count": 6,
     "metadata": {},
     "output_type": "execute_result"
    }
   ],
   "source": [
    "data.head()"
   ]
  },
  {
   "cell_type": "code",
   "execution_count": 8,
   "id": "592b311f",
   "metadata": {},
   "outputs": [],
   "source": [
    "from factor_analyzer.factor_analyzer import calculate_kmo\n",
    "\n",
    "kmo_all, kmo_model=calculate_kmo(data)"
   ]
  },
  {
   "cell_type": "code",
   "execution_count": 9,
   "id": "9f1a3d6e",
   "metadata": {},
   "outputs": [
    {
     "data": {
      "text/plain": [
       "0.6081980507871846"
      ]
     },
     "execution_count": 9,
     "metadata": {},
     "output_type": "execute_result"
    }
   ],
   "source": [
    "kmo_model"
   ]
  },
  {
   "cell_type": "markdown",
   "id": "2548c8de",
   "metadata": {},
   "source": [
    "Kaiser-Meyer-Olkin (KMO) Test measures the suitability of data for factor analysis. It determines the adequacy for each observed variable and for the complete model. KMO estimates the proportion of variance among all the observed variable. Lower proportion id more suitable for factor analysis. KMO values range between 0 and 1. Value of KMO less than 0.6 is considered inadequate."
   ]
  },
  {
   "cell_type": "code",
   "execution_count": 12,
   "id": "0ea74110",
   "metadata": {},
   "outputs": [],
   "source": [
    "# Create factor analysis object and perform factor analysis\n",
    "\n",
    "fa = FactorAnalyzer(n_factors=2, rotation=\"varimax\", method=\"principal\", is_corr_matrix=False)"
   ]
  },
  {
   "cell_type": "code",
   "execution_count": 13,
   "id": "3554aae8",
   "metadata": {},
   "outputs": [
    {
     "data": {
      "text/plain": [
       "FactorAnalyzer(method='principal', n_factors=2, rotation='varimax',\n",
       "               rotation_kwargs={})"
      ]
     },
     "execution_count": 13,
     "metadata": {},
     "output_type": "execute_result"
    }
   ],
   "source": [
    "fa.fit(data)"
   ]
  },
  {
   "cell_type": "code",
   "execution_count": 14,
   "id": "f7a24faa",
   "metadata": {},
   "outputs": [
    {
     "name": "stdout",
     "output_type": "stream",
     "text": [
      "Eigenvalues:\n",
      "[2.79788512 1.85569389 1.71691242 1.00247365 0.99473424 0.86560483\n",
      " 0.78877336 0.44761366 0.25010504 0.18464365 0.09556013]\n",
      "\n",
      "Communalities:\n",
      "[0.01129427 0.02213267 0.25649659 0.25023673 0.6770339  0.3018054\n",
      " 0.66797566 0.76179652 0.18824124 0.75595212 0.76061391]\n",
      "\n",
      "Specific Variances:\n",
      "[0.98870573 0.97786733 0.74350341 0.74976327 0.3229661  0.6981946\n",
      " 0.33202434 0.23820348 0.81175876 0.24404788 0.23938609]\n",
      "\n",
      "Factor Loadings:\n",
      "[[-0.10237838  0.02851203]\n",
      " [ 0.05141912 -0.1396021 ]\n",
      " [-0.15206336  0.48308728]\n",
      " [ 0.17877044 -0.46720216]\n",
      " [ 0.81281752  0.12791242]\n",
      " [-0.5479679   0.03919926]\n",
      " [ 0.81721571 -0.01158202]\n",
      " [ 0.87237117 -0.02765958]\n",
      " [-0.36316878  0.23738087]\n",
      " [ 0.25884737  0.83003022]\n",
      " [ 0.27578384  0.82737971]]\n"
     ]
    }
   ],
   "source": [
    "print(\"Eigenvalues:\")\n",
    "print(fa.get_eigenvalues()[0])\n",
    "print()\n",
    "print(\"Communalities:\")\n",
    "print(fa.get_communalities())\n",
    "print()\n",
    "print(\"Specific Variances:\")\n",
    "print(fa.get_uniquenesses())\n",
    "print()\n",
    "print(\"Factor Loadings:\")\n",
    "print(fa.loadings_)"
   ]
  },
  {
   "cell_type": "code",
   "execution_count": 15,
   "id": "6f4ceaab",
   "metadata": {},
   "outputs": [
    {
     "data": {
      "text/plain": [
       "Text(0.5, 1.0, 'Scree Plot')"
      ]
     },
     "execution_count": 15,
     "metadata": {},
     "output_type": "execute_result"
    },
    {
     "data": {
      "image/png": "[encoded data removed]",
      "text/plain": [
       "<Figure size 640x480 with 1 Axes>"
      ]
     },
     "metadata": {},
     "output_type": "display_data"
    }
   ],
   "source": [
    "plt.plot(fa.get_eigenvalues()[0], marker='o')\n",
    "plt.xlabel(\"Eigenvalue number\")\n",
    "plt.ylabel(\"Eigenvalue size\")\n",
    "plt.title(\"Scree Plot\")"
   ]
  },
  {
   "cell_type": "code",
   "execution_count": 16,
   "id": "c320a469",
   "metadata": {},
   "outputs": [],
   "source": [
    "transformed_df = pd.DataFrame(fa.transform(data), columns=['RF1', 'RF2'])"
   ]
  },
  {
   "cell_type": "code",
   "execution_count": 17,
   "id": "cd715c93",
   "metadata": {},
   "outputs": [
    {
     "data": {
      "text/html": [
       "<div>\n",
       "<style scoped>\n",
       "    .dataframe tbody tr th:only-of-type {\n",
       "        vertical-align: middle;\n",
       "    }\n",
       "\n",
       "    .dataframe tbody tr th {\n",
       "        vertical-align: top;\n",
       "    }\n",
       "\n",
       "    .dataframe thead th {\n",
       "        text-align: right;\n",
       "    }\n",
       "</style>\n",
       "<table border=\"1\" class=\"dataframe\">\n",
       "  <thead>\n",
       "    <tr style=\"text-align: right;\">\n",
       "      <th></th>\n",
       "      <th>RF1</th>\n",
       "      <th>RF2</th>\n",
       "    </tr>\n",
       "  </thead>\n",
       "  <tbody>\n",
       "    <tr>\n",
       "      <th>0</th>\n",
       "      <td>-1.328561</td>\n",
       "      <td>-0.799311</td>\n",
       "    </tr>\n",
       "    <tr>\n",
       "      <th>1</th>\n",
       "      <td>-0.599817</td>\n",
       "      <td>-0.849709</td>\n",
       "    </tr>\n",
       "    <tr>\n",
       "      <th>2</th>\n",
       "      <td>-0.187977</td>\n",
       "      <td>-1.011142</td>\n",
       "    </tr>\n",
       "    <tr>\n",
       "      <th>3</th>\n",
       "      <td>0.897753</td>\n",
       "      <td>-0.486467</td>\n",
       "    </tr>\n",
       "    <tr>\n",
       "      <th>4</th>\n",
       "      <td>-0.631846</td>\n",
       "      <td>0.850744</td>\n",
       "    </tr>\n",
       "  </tbody>\n",
       "</table>\n",
       "</div>"
      ],
      "text/plain": [
       "        RF1       RF2\n",
       "0 -1.328561 -0.799311\n",
       "1 -0.599817 -0.849709\n",
       "2 -0.187977 -1.011142\n",
       "3  0.897753 -0.486467\n",
       "4 -0.631846  0.850744"
      ]
     },
     "execution_count": 17,
     "metadata": {},
     "output_type": "execute_result"
    }
   ],
   "source": [
    "transformed_df.head()"
   ]
  },
  {
   "cell_type": "code",
   "execution_count": 21,
   "id": "8550d6e1",
   "metadata": {},
   "outputs": [
    {
     "data": {
      "text/plain": [
       "FactorAnalyzer(n_factors=6, rotation='varimax', rotation_kwargs={})"
      ]
     },
     "execution_count": 21,
     "metadata": {},
     "output_type": "execute_result"
    }
   ],
   "source": [
    "fa = FactorAnalyzer(n_factors=6,rotation='varimax')\n",
    "fa.fit(data)"
   ]
  },
  {
   "cell_type": "code",
   "execution_count": 25,
   "id": "7e3e852a",
   "metadata": {},
   "outputs": [],
   "source": [
    "factor_df= pd.DataFrame(fa.loadings_,index=data.columns)"
   ]
  },
  {
   "cell_type": "code",
   "execution_count": 26,
   "id": "320bb5aa",
   "metadata": {},
   "outputs": [
    {
     "data": {
      "text/html": [
       "<div>\n",
       "<style scoped>\n",
       "    .dataframe tbody tr th:only-of-type {\n",
       "        vertical-align: middle;\n",
       "    }\n",
       "\n",
       "    .dataframe tbody tr th {\n",
       "        vertical-align: top;\n",
       "    }\n",
       "\n",
       "    .dataframe thead th {\n",
       "        text-align: right;\n",
       "    }\n",
       "</style>\n",
       "<table border=\"1\" class=\"dataframe\">\n",
       "  <thead>\n",
       "    <tr style=\"text-align: right;\">\n",
       "      <th></th>\n",
       "      <th>0</th>\n",
       "      <th>1</th>\n",
       "      <th>2</th>\n",
       "      <th>3</th>\n",
       "      <th>4</th>\n",
       "      <th>5</th>\n",
       "    </tr>\n",
       "  </thead>\n",
       "  <tbody>\n",
       "    <tr>\n",
       "      <th>venue_code</th>\n",
       "      <td>-0.000398</td>\n",
       "      <td>0.001357</td>\n",
       "      <td>-0.026711</td>\n",
       "      <td>0.002386</td>\n",
       "      <td>-0.106014</td>\n",
       "      <td>0.006138</td>\n",
       "    </tr>\n",
       "    <tr>\n",
       "      <th>opp_code</th>\n",
       "      <td>-0.038176</td>\n",
       "      <td>-0.033561</td>\n",
       "      <td>0.015526</td>\n",
       "      <td>0.005767</td>\n",
       "      <td>0.004289</td>\n",
       "      <td>0.126242</td>\n",
       "    </tr>\n",
       "    <tr>\n",
       "      <th>hour</th>\n",
       "      <td>0.016944</td>\n",
       "      <td>0.955195</td>\n",
       "      <td>-0.019020</td>\n",
       "      <td>0.006190</td>\n",
       "      <td>0.030485</td>\n",
       "      <td>-0.111779</td>\n",
       "    </tr>\n",
       "    <tr>\n",
       "      <th>day_code</th>\n",
       "      <td>0.001048</td>\n",
       "      <td>-0.777023</td>\n",
       "      <td>-0.014672</td>\n",
       "      <td>0.015427</td>\n",
       "      <td>0.048358</td>\n",
       "      <td>0.080087</td>\n",
       "    </tr>\n",
       "    <tr>\n",
       "      <th>gf_rolling</th>\n",
       "      <td>0.221811</td>\n",
       "      <td>-0.012547</td>\n",
       "      <td>0.400654</td>\n",
       "      <td>0.858343</td>\n",
       "      <td>0.179263</td>\n",
       "      <td>0.127444</td>\n",
       "    </tr>\n",
       "    <tr>\n",
       "      <th>ga_rolling</th>\n",
       "      <td>-0.069595</td>\n",
       "      <td>0.020534</td>\n",
       "      <td>-0.134405</td>\n",
       "      <td>-0.176653</td>\n",
       "      <td>-0.430042</td>\n",
       "      <td>-0.085004</td>\n",
       "    </tr>\n",
       "    <tr>\n",
       "      <th>sh_rolling</th>\n",
       "      <td>0.112148</td>\n",
       "      <td>0.022473</td>\n",
       "      <td>0.616109</td>\n",
       "      <td>0.129222</td>\n",
       "      <td>0.515763</td>\n",
       "      <td>0.284149</td>\n",
       "    </tr>\n",
       "    <tr>\n",
       "      <th>sot_rolling</th>\n",
       "      <td>0.042569</td>\n",
       "      <td>-0.011550</td>\n",
       "      <td>0.891219</td>\n",
       "      <td>0.309685</td>\n",
       "      <td>0.320868</td>\n",
       "      <td>-0.003808</td>\n",
       "    </tr>\n",
       "    <tr>\n",
       "      <th>dist_rolling</th>\n",
       "      <td>0.150113</td>\n",
       "      <td>0.000970</td>\n",
       "      <td>-0.044570</td>\n",
       "      <td>-0.284693</td>\n",
       "      <td>-0.308178</td>\n",
       "      <td>0.170636</td>\n",
       "    </tr>\n",
       "    <tr>\n",
       "      <th>pk_rolling</th>\n",
       "      <td>0.927882</td>\n",
       "      <td>0.005188</td>\n",
       "      <td>0.051398</td>\n",
       "      <td>0.073388</td>\n",
       "      <td>-0.006397</td>\n",
       "      <td>-0.117126</td>\n",
       "    </tr>\n",
       "    <tr>\n",
       "      <th>pkatt_rolling</th>\n",
       "      <td>0.954370</td>\n",
       "      <td>0.011036</td>\n",
       "      <td>0.055545</td>\n",
       "      <td>0.031655</td>\n",
       "      <td>0.058176</td>\n",
       "      <td>-0.099200</td>\n",
       "    </tr>\n",
       "  </tbody>\n",
       "</table>\n",
       "</div>"
      ],
      "text/plain": [
       "                      0         1         2         3         4         5\n",
       "venue_code    -0.000398  0.001357 -0.026711  0.002386 -0.106014  0.006138\n",
       "opp_code      -0.038176 -0.033561  0.015526  0.005767  0.004289  0.126242\n",
       "hour           0.016944  0.955195 -0.019020  0.006190  0.030485 -0.111779\n",
       "day_code       0.001048 -0.777023 -0.014672  0.015427  0.048358  0.080087\n",
       "gf_rolling     0.221811 -0.012547  0.400654  0.858343  0.179263  0.127444\n",
       "ga_rolling    -0.069595  0.020534 -0.134405 -0.176653 -0.430042 -0.085004\n",
       "sh_rolling     0.112148  0.022473  0.616109  0.129222  0.515763  0.284149\n",
       "sot_rolling    0.042569 -0.011550  0.891219  0.309685  0.320868 -0.003808\n",
       "dist_rolling   0.150113  0.000970 -0.044570 -0.284693 -0.308178  0.170636\n",
       "pk_rolling     0.927882  0.005188  0.051398  0.073388 -0.006397 -0.117126\n",
       "pkatt_rolling  0.954370  0.011036  0.055545  0.031655  0.058176 -0.099200"
      ]
     },
     "execution_count": 26,
     "metadata": {},
     "output_type": "execute_result"
    }
   ],
   "source": [
    "factor_df"
   ]
  },
  {
   "cell_type": "code",
   "execution_count": null,
   "id": "2506d51e",
   "metadata": {},
   "outputs": [],
   "source": []
  }
 ],
 "metadata": {
  "kernelspec": {
   "display_name": "Python 3 (ipykernel)",
   "language": "python",
   "name": "python3"
  },
  "language_info": {
   "codemirror_mode": {
    "name": "ipython",
    "version": 3
   },
   "file_extension": ".py",
   "mimetype": "text/x-python",
   "name": "python",
   "nbconvert_exporter": "python",
   "pygments_lexer": "ipython3",
   "version": "3.9.13"
  }
 },
 "nbformat": 4,
 "nbformat_minor": 5
}
