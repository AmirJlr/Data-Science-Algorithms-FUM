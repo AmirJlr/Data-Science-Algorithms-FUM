{
 "cells": [
  {
   "cell_type": "code",
   "execution_count": 17,
   "id": "d9de441b",
   "metadata": {},
   "outputs": [],
   "source": [
    "# !pip install factor_analyzer\n",
    "\n",
    "# Import required libraries\n",
    "import numpy as np\n",
    "import pandas as pd\n",
    "import matplotlib.pyplot as plt\n",
    "from sklearn.preprocessing import StandardScaler\n",
    "\n",
    "from factor_analyzer import FactorAnalyzer\n",
    "from factor_analyzer.factor_analyzer import calculate_bartlett_sphericity,calculate_kmo\n"
   ]
  },
  {
   "cell_type": "code",
   "execution_count": 2,
   "id": "05ffc5c7",
   "metadata": {},
   "outputs": [],
   "source": [
    "data = pd.read_csv('../../Data/f_win.csv')"
   ]
  },
  {
   "cell_type": "code",
   "execution_count": 3,
   "id": "2681daaa",
   "metadata": {},
   "outputs": [],
   "source": [
    "data.drop(['Unnamed: 0', 'Win'], axis =1, inplace = True)"
   ]
  },
  {
   "cell_type": "code",
   "execution_count": 4,
   "id": "c95b3783",
   "metadata": {},
   "outputs": [
    {
     "data": {
      "text/html": [
       "<div>\n",
       "<style scoped>\n",
       "    .dataframe tbody tr th:only-of-type {\n",
       "        vertical-align: middle;\n",
       "    }\n",
       "\n",
       "    .dataframe tbody tr th {\n",
       "        vertical-align: top;\n",
       "    }\n",
       "\n",
       "    .dataframe thead th {\n",
       "        text-align: right;\n",
       "    }\n",
       "</style>\n",
       "<table border=\"1\" class=\"dataframe\">\n",
       "  <thead>\n",
       "    <tr style=\"text-align: right;\">\n",
       "      <th></th>\n",
       "      <th>venue_code</th>\n",
       "      <th>opp_code</th>\n",
       "      <th>hour</th>\n",
       "      <th>day_code</th>\n",
       "      <th>gf_rolling</th>\n",
       "      <th>ga_rolling</th>\n",
       "      <th>sh_rolling</th>\n",
       "      <th>sot_rolling</th>\n",
       "      <th>dist_rolling</th>\n",
       "      <th>pk_rolling</th>\n",
       "      <th>pkatt_rolling</th>\n",
       "    </tr>\n",
       "  </thead>\n",
       "  <tbody>\n",
       "    <tr>\n",
       "      <th>0</th>\n",
       "      <td>1</td>\n",
       "      <td>16</td>\n",
       "      <td>15</td>\n",
       "      <td>5</td>\n",
       "      <td>0.000000</td>\n",
       "      <td>3.000000</td>\n",
       "      <td>9.666667</td>\n",
       "      <td>2.333333</td>\n",
       "      <td>14.833333</td>\n",
       "      <td>0.0</td>\n",
       "      <td>0.0</td>\n",
       "    </tr>\n",
       "    <tr>\n",
       "      <th>1</th>\n",
       "      <td>0</td>\n",
       "      <td>5</td>\n",
       "      <td>15</td>\n",
       "      <td>5</td>\n",
       "      <td>0.333333</td>\n",
       "      <td>2.333333</td>\n",
       "      <td>12.333333</td>\n",
       "      <td>3.000000</td>\n",
       "      <td>14.133333</td>\n",
       "      <td>0.0</td>\n",
       "      <td>0.0</td>\n",
       "    </tr>\n",
       "    <tr>\n",
       "      <th>2</th>\n",
       "      <td>1</td>\n",
       "      <td>19</td>\n",
       "      <td>16</td>\n",
       "      <td>6</td>\n",
       "      <td>0.666667</td>\n",
       "      <td>1.666667</td>\n",
       "      <td>14.666667</td>\n",
       "      <td>3.000000</td>\n",
       "      <td>14.800000</td>\n",
       "      <td>0.0</td>\n",
       "      <td>0.0</td>\n",
       "    </tr>\n",
       "    <tr>\n",
       "      <th>3</th>\n",
       "      <td>0</td>\n",
       "      <td>4</td>\n",
       "      <td>17</td>\n",
       "      <td>5</td>\n",
       "      <td>1.666667</td>\n",
       "      <td>0.333333</td>\n",
       "      <td>18.333333</td>\n",
       "      <td>5.333333</td>\n",
       "      <td>18.433333</td>\n",
       "      <td>0.0</td>\n",
       "      <td>0.0</td>\n",
       "    </tr>\n",
       "    <tr>\n",
       "      <th>4</th>\n",
       "      <td>1</td>\n",
       "      <td>7</td>\n",
       "      <td>20</td>\n",
       "      <td>0</td>\n",
       "      <td>1.333333</td>\n",
       "      <td>0.333333</td>\n",
       "      <td>11.000000</td>\n",
       "      <td>4.000000</td>\n",
       "      <td>19.833333</td>\n",
       "      <td>0.0</td>\n",
       "      <td>0.0</td>\n",
       "    </tr>\n",
       "  </tbody>\n",
       "</table>\n",
       "</div>"
      ],
      "text/plain": [
       "   venue_code  opp_code  hour  day_code  gf_rolling  ga_rolling  sh_rolling  \\\n",
       "0           1        16    15         5    0.000000    3.000000    9.666667   \n",
       "1           0         5    15         5    0.333333    2.333333   12.333333   \n",
       "2           1        19    16         6    0.666667    1.666667   14.666667   \n",
       "3           0         4    17         5    1.666667    0.333333   18.333333   \n",
       "4           1         7    20         0    1.333333    0.333333   11.000000   \n",
       "\n",
       "   sot_rolling  dist_rolling  pk_rolling  pkatt_rolling  \n",
       "0     2.333333     14.833333         0.0            0.0  \n",
       "1     3.000000     14.133333         0.0            0.0  \n",
       "2     3.000000     14.800000         0.0            0.0  \n",
       "3     5.333333     18.433333         0.0            0.0  \n",
       "4     4.000000     19.833333         0.0            0.0  "
      ]
     },
     "execution_count": 4,
     "metadata": {},
     "output_type": "execute_result"
    }
   ],
   "source": [
    "data.head()"
   ]
  },
  {
   "cell_type": "code",
   "execution_count": 5,
   "id": "c53c9708",
   "metadata": {},
   "outputs": [
    {
     "data": {
      "text/html": [
       "<div>\n",
       "<style scoped>\n",
       "    .dataframe tbody tr th:only-of-type {\n",
       "        vertical-align: middle;\n",
       "    }\n",
       "\n",
       "    .dataframe tbody tr th {\n",
       "        vertical-align: top;\n",
       "    }\n",
       "\n",
       "    .dataframe thead th {\n",
       "        text-align: right;\n",
       "    }\n",
       "</style>\n",
       "<table border=\"1\" class=\"dataframe\">\n",
       "  <thead>\n",
       "    <tr style=\"text-align: right;\">\n",
       "      <th></th>\n",
       "      <th>venue_code</th>\n",
       "      <th>opp_code</th>\n",
       "      <th>hour</th>\n",
       "      <th>day_code</th>\n",
       "      <th>gf_rolling</th>\n",
       "      <th>ga_rolling</th>\n",
       "      <th>sh_rolling</th>\n",
       "      <th>sot_rolling</th>\n",
       "      <th>dist_rolling</th>\n",
       "      <th>pk_rolling</th>\n",
       "      <th>pkatt_rolling</th>\n",
       "    </tr>\n",
       "  </thead>\n",
       "  <tbody>\n",
       "    <tr>\n",
       "      <th>0</th>\n",
       "      <td>1.001022</td>\n",
       "      <td>0.736916</td>\n",
       "      <td>-0.403068</td>\n",
       "      <td>0.277129</td>\n",
       "      <td>-1.639016</td>\n",
       "      <td>1.967929</td>\n",
       "      <td>-0.808241</td>\n",
       "      <td>-1.164732</td>\n",
       "      <td>-1.499824</td>\n",
       "      <td>-0.568704</td>\n",
       "      <td>-0.646228</td>\n",
       "    </tr>\n",
       "    <tr>\n",
       "      <th>1</th>\n",
       "      <td>-0.998979</td>\n",
       "      <td>-0.917075</td>\n",
       "      <td>-0.403068</td>\n",
       "      <td>0.277129</td>\n",
       "      <td>-1.251993</td>\n",
       "      <td>1.147749</td>\n",
       "      <td>-0.089070</td>\n",
       "      <td>-0.747508</td>\n",
       "      <td>-1.896874</td>\n",
       "      <td>-0.568704</td>\n",
       "      <td>-0.646228</td>\n",
       "    </tr>\n",
       "    <tr>\n",
       "      <th>2</th>\n",
       "      <td>1.001022</td>\n",
       "      <td>1.188004</td>\n",
       "      <td>0.023992</td>\n",
       "      <td>0.878703</td>\n",
       "      <td>-0.864970</td>\n",
       "      <td>0.327569</td>\n",
       "      <td>0.540205</td>\n",
       "      <td>-0.747508</td>\n",
       "      <td>-1.518731</td>\n",
       "      <td>-0.568704</td>\n",
       "      <td>-0.646228</td>\n",
       "    </tr>\n",
       "    <tr>\n",
       "      <th>3</th>\n",
       "      <td>-0.998979</td>\n",
       "      <td>-1.067438</td>\n",
       "      <td>0.451052</td>\n",
       "      <td>0.277129</td>\n",
       "      <td>0.296098</td>\n",
       "      <td>-1.312791</td>\n",
       "      <td>1.529065</td>\n",
       "      <td>0.712775</td>\n",
       "      <td>0.542146</td>\n",
       "      <td>-0.568704</td>\n",
       "      <td>-0.646228</td>\n",
       "    </tr>\n",
       "    <tr>\n",
       "      <th>4</th>\n",
       "      <td>1.001022</td>\n",
       "      <td>-0.616349</td>\n",
       "      <td>1.732231</td>\n",
       "      <td>-2.730739</td>\n",
       "      <td>-0.090925</td>\n",
       "      <td>-1.312791</td>\n",
       "      <td>-0.448656</td>\n",
       "      <td>-0.121673</td>\n",
       "      <td>1.336246</td>\n",
       "      <td>-0.568704</td>\n",
       "      <td>-0.646228</td>\n",
       "    </tr>\n",
       "  </tbody>\n",
       "</table>\n",
       "</div>"
      ],
      "text/plain": [
       "   venue_code  opp_code      hour  day_code  gf_rolling  ga_rolling  \\\n",
       "0    1.001022  0.736916 -0.403068  0.277129   -1.639016    1.967929   \n",
       "1   -0.998979 -0.917075 -0.403068  0.277129   -1.251993    1.147749   \n",
       "2    1.001022  1.188004  0.023992  0.878703   -0.864970    0.327569   \n",
       "3   -0.998979 -1.067438  0.451052  0.277129    0.296098   -1.312791   \n",
       "4    1.001022 -0.616349  1.732231 -2.730739   -0.090925   -1.312791   \n",
       "\n",
       "   sh_rolling  sot_rolling  dist_rolling  pk_rolling  pkatt_rolling  \n",
       "0   -0.808241    -1.164732     -1.499824   -0.568704      -0.646228  \n",
       "1   -0.089070    -0.747508     -1.896874   -0.568704      -0.646228  \n",
       "2    0.540205    -0.747508     -1.518731   -0.568704      -0.646228  \n",
       "3    1.529065     0.712775      0.542146   -0.568704      -0.646228  \n",
       "4   -0.448656    -0.121673      1.336246   -0.568704      -0.646228  "
      ]
     },
     "execution_count": 5,
     "metadata": {},
     "output_type": "execute_result"
    }
   ],
   "source": [
    "scaler =  StandardScaler()\n",
    "df = scaler.fit_transform(data)\n",
    "\n",
    "df = pd.DataFrame(data=df,columns=data.columns)\n",
    "df.head()"
   ]
  },
  {
   "cell_type": "code",
   "execution_count": 7,
   "id": "8ad3e55b",
   "metadata": {},
   "outputs": [
    {
     "name": "stdout",
     "output_type": "stream",
     "text": [
      "Bartlett Sphericity Test\n",
      "Chi squared value :  4306.557861839665\n",
      "p value :  0.0\n"
     ]
    }
   ],
   "source": [
    "chi2,p = calculate_bartlett_sphericity(df)\n",
    "print(\"Bartlett Sphericity Test\")\n",
    "print(\"Chi squared value : \",chi2)\n",
    "print(\"p value : \",p)"
   ]
  },
  {
   "cell_type": "code",
   "execution_count": 8,
   "id": "50f6a20d",
   "metadata": {},
   "outputs": [
    {
     "name": "stdout",
     "output_type": "stream",
     "text": [
      "KMO Test Statisitc 0.6081980507871866\n"
     ]
    }
   ],
   "source": [
    "kmo_all,kmo_model = calculate_kmo(df)\n",
    "print(\"KMO Test Statisitc\",kmo_model)"
   ]
  },
  {
   "cell_type": "markdown",
   "id": "11e64fc0",
   "metadata": {},
   "source": [
    "Kaiser-Meyer-Olkin (KMO) Test measures the suitability of data for factor analysis. It determines the adequacy for each observed variable and for the complete model. KMO estimates the proportion of variance among all the observed variable. Lower proportion id more suitable for factor analysis. KMO values range between 0 and 1. Value of KMO less than 0.6 is considered inadequate."
   ]
  },
  {
   "cell_type": "code",
   "execution_count": 10,
   "id": "c047f149",
   "metadata": {},
   "outputs": [],
   "source": [
    "fa = FactorAnalyzer(rotation = None,impute = \"drop\",n_factors=df.shape[1])"
   ]
  },
  {
   "cell_type": "code",
   "execution_count": 11,
   "id": "e80c2b5a",
   "metadata": {},
   "outputs": [
    {
     "data": {
      "text/plain": [
       "FactorAnalyzer(impute='drop', n_factors=11, rotation=None, rotation_kwargs={})"
      ]
     },
     "execution_count": 11,
     "metadata": {},
     "output_type": "execute_result"
    }
   ],
   "source": [
    "fa.fit(df)"
   ]
  },
  {
   "cell_type": "code",
   "execution_count": 12,
   "id": "0ca3a192",
   "metadata": {},
   "outputs": [],
   "source": [
    "ev,_ = fa.get_eigenvalues()"
   ]
  },
  {
   "cell_type": "code",
   "execution_count": 14,
   "id": "bde989f9",
   "metadata": {},
   "outputs": [
    {
     "data": {
      "image/png": "[encoded data removed]",
      "text/plain": [
       "<Figure size 640x480 with 1 Axes>"
      ]
     },
     "metadata": {},
     "output_type": "display_data"
    }
   ],
   "source": [
    "plt.scatter(range(1,df.shape[1]+1),ev)\n",
    "plt.plot(range(1,df.shape[1]+1),ev)\n",
    "plt.title('Scree Plot')\n",
    "plt.xlabel('Factors')\n",
    "plt.ylabel('Eigen Value')\n",
    "plt.grid()"
   ]
  },
  {
   "cell_type": "code",
   "execution_count": 15,
   "id": "8ce44428",
   "metadata": {},
   "outputs": [
    {
     "data": {
      "text/plain": [
       "FactorAnalyzer(rotation='varimax', rotation_kwargs={})"
      ]
     },
     "execution_count": 15,
     "metadata": {},
     "output_type": "execute_result"
    }
   ],
   "source": [
    "fa = FactorAnalyzer(n_factors=3,rotation='varimax')\n",
    "fa.fit(df)"
   ]
  },
  {
   "cell_type": "code",
   "execution_count": 18,
   "id": "cacffa08",
   "metadata": {},
   "outputs": [
    {
     "name": "stdout",
     "output_type": "stream",
     "text": [
      "    EigenValues\n",
      "0      2.797885\n",
      "1      1.855694\n",
      "2      1.716912\n",
      "3      1.002474\n",
      "4      0.994734\n",
      "5      0.865605\n",
      "6      0.788773\n",
      "7      0.447614\n",
      "8      0.250105\n",
      "9      0.184644\n",
      "10     0.095560\n"
     ]
    }
   ],
   "source": [
    "with np.printoptions(suppress=True,precision=3):\n",
    "    print(pd.DataFrame(fa.get_eigenvalues()[0],columns=['EigenValues']))"
   ]
  },
  {
   "cell_type": "code",
   "execution_count": 20,
   "id": "f169efdf",
   "metadata": {},
   "outputs": [
    {
     "name": "stdout",
     "output_type": "stream",
     "text": [
      "                      0         1         2\n",
      "venue_code    -0.070481  0.004554  0.001572\n",
      "opp_code       0.031313 -0.050826 -0.047816\n",
      "hour           0.018735  0.023522  0.958409\n",
      "day_code       0.007962 -0.004998 -0.781870\n",
      "gf_rolling     0.716135  0.201919 -0.038716\n",
      "ga_rolling    -0.403721 -0.045205  0.036207\n",
      "sh_rolling     0.771869  0.055340 -0.022350\n",
      "sot_rolling    0.931882  0.029062 -0.024671\n",
      "dist_rolling  -0.285014  0.122554 -0.012027\n",
      "pk_rolling     0.083663  0.982787  0.009304\n",
      "pkatt_rolling  0.108872  0.911220  0.014064\n"
     ]
    }
   ],
   "source": [
    "with np.printoptions(suppress=True,precision=3):\n",
    "    print(pd.DataFrame(fa.loadings_,index=df.columns))"
   ]
  },
  {
   "cell_type": "code",
   "execution_count": 21,
   "id": "728b1cd8",
   "metadata": {},
   "outputs": [
    {
     "name": "stdout",
     "output_type": "stream",
     "text": [
      "                         0         1         2\n",
      "Variance          2.246474  1.861115  1.536504\n",
      "Proportional Var  0.204225  0.169192  0.139682\n",
      "Cumulative Var    0.204225  0.373417  0.513099\n"
     ]
    }
   ],
   "source": [
    "with np.printoptions(suppress=True,precision=3):\n",
    "    print(pd.DataFrame(fa.get_factor_variance(),index=['Variance','Proportional Var','Cumulative Var']))"
   ]
  },
  {
   "cell_type": "code",
   "execution_count": 22,
   "id": "9ca34929",
   "metadata": {},
   "outputs": [
    {
     "name": "stdout",
     "output_type": "stream",
     "text": [
      "               Uniqueness\n",
      "venue_code       0.995009\n",
      "opp_code         0.994150\n",
      "hour             0.080549\n",
      "day_code         0.388590\n",
      "gf_rolling       0.444881\n",
      "ga_rolling       0.833655\n",
      "sh_rolling       0.400656\n",
      "sot_rolling      0.130142\n",
      "dist_rolling     0.903603\n",
      "pk_rolling       0.027044\n",
      "pkatt_rolling    0.157628\n"
     ]
    }
   ],
   "source": [
    "with np.printoptions(suppress=True,precision=3):\n",
    "    print(pd.DataFrame(fa.get_uniquenesses(),index=df.columns,columns=['Uniqueness']))"
   ]
  },
  {
   "cell_type": "code",
   "execution_count": 23,
   "id": "78763225",
   "metadata": {},
   "outputs": [
    {
     "name": "stdout",
     "output_type": "stream",
     "text": [
      "               Communalities\n",
      "venue_code          0.004991\n",
      "opp_code            0.005850\n",
      "hour                0.919451\n",
      "day_code            0.611410\n",
      "gf_rolling          0.555119\n",
      "ga_rolling          0.166345\n",
      "sh_rolling          0.599344\n",
      "sot_rolling         0.869858\n",
      "dist_rolling        0.096397\n",
      "pk_rolling          0.972956\n",
      "pkatt_rolling       0.842372\n"
     ]
    }
   ],
   "source": [
    "with np.printoptions(precision=3,suppress=True):\n",
    "    print(pd.DataFrame(fa.get_communalities(),index=df.columns,columns=['Communalities']))"
   ]
  },
  {
   "cell_type": "code",
   "execution_count": null,
   "id": "81b95c1c",
   "metadata": {},
   "outputs": [],
   "source": []
  },
  {
   "cell_type": "code",
   "execution_count": null,
   "id": "a2f9ff84",
   "metadata": {},
   "outputs": [],
   "source": [
    "transformed_df.head()"
   ]
  },
  {
   "cell_type": "code",
   "execution_count": 24,
   "id": "cea622f5",
   "metadata": {},
   "outputs": [],
   "source": [
    "factor_df= pd.DataFrame(fa.loadings_,index=df.columns)"
   ]
  },
  {
   "cell_type": "code",
   "execution_count": 25,
   "id": "755de796",
   "metadata": {},
   "outputs": [
    {
     "data": {
      "text/html": [
       "<div>\n",
       "<style scoped>\n",
       "    .dataframe tbody tr th:only-of-type {\n",
       "        vertical-align: middle;\n",
       "    }\n",
       "\n",
       "    .dataframe tbody tr th {\n",
       "        vertical-align: top;\n",
       "    }\n",
       "\n",
       "    .dataframe thead th {\n",
       "        text-align: right;\n",
       "    }\n",
       "</style>\n",
       "<table border=\"1\" class=\"dataframe\">\n",
       "  <thead>\n",
       "    <tr style=\"text-align: right;\">\n",
       "      <th></th>\n",
       "      <th>0</th>\n",
       "      <th>1</th>\n",
       "      <th>2</th>\n",
       "    </tr>\n",
       "  </thead>\n",
       "  <tbody>\n",
       "    <tr>\n",
       "      <th>venue_code</th>\n",
       "      <td>-0.070481</td>\n",
       "      <td>0.004554</td>\n",
       "      <td>0.001572</td>\n",
       "    </tr>\n",
       "    <tr>\n",
       "      <th>opp_code</th>\n",
       "      <td>0.031313</td>\n",
       "      <td>-0.050826</td>\n",
       "      <td>-0.047816</td>\n",
       "    </tr>\n",
       "    <tr>\n",
       "      <th>hour</th>\n",
       "      <td>0.018735</td>\n",
       "      <td>0.023522</td>\n",
       "      <td>0.958409</td>\n",
       "    </tr>\n",
       "    <tr>\n",
       "      <th>day_code</th>\n",
       "      <td>0.007962</td>\n",
       "      <td>-0.004998</td>\n",
       "      <td>-0.781870</td>\n",
       "    </tr>\n",
       "    <tr>\n",
       "      <th>gf_rolling</th>\n",
       "      <td>0.716135</td>\n",
       "      <td>0.201919</td>\n",
       "      <td>-0.038716</td>\n",
       "    </tr>\n",
       "    <tr>\n",
       "      <th>ga_rolling</th>\n",
       "      <td>-0.403721</td>\n",
       "      <td>-0.045205</td>\n",
       "      <td>0.036207</td>\n",
       "    </tr>\n",
       "    <tr>\n",
       "      <th>sh_rolling</th>\n",
       "      <td>0.771869</td>\n",
       "      <td>0.055340</td>\n",
       "      <td>-0.022350</td>\n",
       "    </tr>\n",
       "    <tr>\n",
       "      <th>sot_rolling</th>\n",
       "      <td>0.931882</td>\n",
       "      <td>0.029062</td>\n",
       "      <td>-0.024671</td>\n",
       "    </tr>\n",
       "    <tr>\n",
       "      <th>dist_rolling</th>\n",
       "      <td>-0.285014</td>\n",
       "      <td>0.122554</td>\n",
       "      <td>-0.012027</td>\n",
       "    </tr>\n",
       "    <tr>\n",
       "      <th>pk_rolling</th>\n",
       "      <td>0.083663</td>\n",
       "      <td>0.982787</td>\n",
       "      <td>0.009304</td>\n",
       "    </tr>\n",
       "    <tr>\n",
       "      <th>pkatt_rolling</th>\n",
       "      <td>0.108872</td>\n",
       "      <td>0.911220</td>\n",
       "      <td>0.014064</td>\n",
       "    </tr>\n",
       "  </tbody>\n",
       "</table>\n",
       "</div>"
      ],
      "text/plain": [
       "                      0         1         2\n",
       "venue_code    -0.070481  0.004554  0.001572\n",
       "opp_code       0.031313 -0.050826 -0.047816\n",
       "hour           0.018735  0.023522  0.958409\n",
       "day_code       0.007962 -0.004998 -0.781870\n",
       "gf_rolling     0.716135  0.201919 -0.038716\n",
       "ga_rolling    -0.403721 -0.045205  0.036207\n",
       "sh_rolling     0.771869  0.055340 -0.022350\n",
       "sot_rolling    0.931882  0.029062 -0.024671\n",
       "dist_rolling  -0.285014  0.122554 -0.012027\n",
       "pk_rolling     0.083663  0.982787  0.009304\n",
       "pkatt_rolling  0.108872  0.911220  0.014064"
      ]
     },
     "execution_count": 25,
     "metadata": {},
     "output_type": "execute_result"
    }
   ],
   "source": [
    "factor_df"
   ]
  },
  {
   "cell_type": "code",
   "execution_count": null,
   "id": "9a69a389",
   "metadata": {},
   "outputs": [],
   "source": []
  }
 ],
 "metadata": {
  "kernelspec": {
   "display_name": "Python 3 (ipykernel)",
   "language": "python",
   "name": "python3"
  },
  "language_info": {
   "codemirror_mode": {
    "name": "ipython",
    "version": 3
   },
   "file_extension": ".py",
   "mimetype": "text/x-python",
   "name": "python",
   "nbconvert_exporter": "python",
   "pygments_lexer": "ipython3",
   "version": "3.9.13"
  }
 },
 "nbformat": 4,
 "nbformat_minor": 5
}
