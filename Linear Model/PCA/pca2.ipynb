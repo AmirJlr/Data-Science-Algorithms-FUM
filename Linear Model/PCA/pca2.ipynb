{
 "cells": [
  {
   "cell_type": "code",
   "execution_count": 1,
   "id": "96350005",
   "metadata": {},
   "outputs": [],
   "source": [
    "import pandas as pd\n",
    "import numpy as np\n",
    "\n",
    "import matplotlib.pyplot as plt\n",
    "from sklearn.decomposition import PCA"
   ]
  },
  {
   "cell_type": "code",
   "execution_count": 2,
   "id": "6b8059b5",
   "metadata": {},
   "outputs": [],
   "source": [
    "df = pd.read_csv('../../Data/f_win.csv')"
   ]
  },
  {
   "cell_type": "code",
   "execution_count": null,
   "id": "b472920c",
   "metadata": {},
   "outputs": [],
   "source": [
    "df.head()"
   ]
  },
  {
   "cell_type": "code",
   "execution_count": null,
   "id": "e0d55be0",
   "metadata": {},
   "outputs": [],
   "source": [
    "df.drop(['Unnamed: 0','Win'],axis=1, inplace=True)"
   ]
  },
  {
   "cell_type": "code",
   "execution_count": null,
   "id": "f4cb5f2a",
   "metadata": {},
   "outputs": [],
   "source": [
    "df.head()"
   ]
  },
  {
   "cell_type": "code",
   "execution_count": null,
   "id": "a23219b5",
   "metadata": {},
   "outputs": [],
   "source": [
    "# Vis to 2-d \n",
    "pca_2 = PCA(n_components=2)"
   ]
  },
  {
   "cell_type": "code",
   "execution_count": null,
   "id": "93c819d2",
   "metadata": {},
   "outputs": [],
   "source": [
    "X_2 = pca_2.fit_transform(df)"
   ]
  },
  {
   "cell_type": "code",
   "execution_count": null,
   "id": "a7f84c31",
   "metadata": {},
   "outputs": [],
   "source": [
    "plt.xkcd()\n",
    "plt.style.use('ggplot')\n",
    "plt.scatter(X_2[:, 0], X_2[:,1])"
   ]
  },
  {
   "cell_type": "code",
   "execution_count": null,
   "id": "1960d440",
   "metadata": {},
   "outputs": [],
   "source": [
    "pca_2.components_"
   ]
  },
  {
   "cell_type": "code",
   "execution_count": null,
   "id": "3874120d",
   "metadata": {},
   "outputs": [],
   "source": [
    "pca_2.explained_variance_ratio_"
   ]
  },
  {
   "cell_type": "code",
   "execution_count": null,
   "id": "3d91df70",
   "metadata": {},
   "outputs": [],
   "source": [
    "np.cumsum(pca_2.explained_variance_ratio_)"
   ]
  },
  {
   "cell_type": "code",
   "execution_count": null,
   "id": "bad5c452",
   "metadata": {},
   "outputs": [],
   "source": [
    "pca = PCA(n_components=df.shape[1])"
   ]
  },
  {
   "cell_type": "code",
   "execution_count": null,
   "id": "2ed2784f",
   "metadata": {},
   "outputs": [],
   "source": [
    "X = pca.fit_transform(df)"
   ]
  },
  {
   "cell_type": "code",
   "execution_count": null,
   "id": "5d78e504",
   "metadata": {},
   "outputs": [],
   "source": [
    "pca.explained_variance_ratio_"
   ]
  },
  {
   "cell_type": "code",
   "execution_count": null,
   "id": "7ce54882",
   "metadata": {},
   "outputs": [],
   "source": [
    "cumsum = np.cumsum(pca.explained_variance_ratio_)\n",
    "d = np.argmax(cumsum > .95) +1"
   ]
  },
  {
   "cell_type": "code",
   "execution_count": null,
   "id": "c2b4e1e4",
   "metadata": {},
   "outputs": [],
   "source": [
    "d"
   ]
  },
  {
   "cell_type": "code",
   "execution_count": null,
   "id": "90bacfde",
   "metadata": {},
   "outputs": [],
   "source": []
  }
 ],
 "metadata": {
  "kernelspec": {
   "display_name": "Python 3 (ipykernel)",
   "language": "python",
   "name": "python3"
  },
  "language_info": {
   "codemirror_mode": {
    "name": "ipython",
    "version": 3
   },
   "file_extension": ".py",
   "mimetype": "text/x-python",
   "name": "python",
   "nbconvert_exporter": "python",
   "pygments_lexer": "ipython3",
   "version": "3.9.13"
  }
 },
 "nbformat": 4,
 "nbformat_minor": 5
}
