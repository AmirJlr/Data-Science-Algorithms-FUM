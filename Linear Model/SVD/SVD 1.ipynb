{
 "cells": [
  {
   "cell_type": "code",
   "execution_count": 1,
   "id": "80bf6693",
   "metadata": {},
   "outputs": [],
   "source": [
    "#importe the libraries\n",
    "\n",
    "import numpy as np\n",
    "import pandas as pd\n",
    "import seaborn as sns\n",
    "import matplotlib.pyplot as plt\n",
    "\n",
    "from scipy.linalg import svd\n",
    "from scipy.sparse import csr_matrix\n",
    "from sklearn.decomposition import TruncatedSVD"
   ]
  },
  {
   "cell_type": "code",
   "execution_count": 2,
   "id": "c2373a57",
   "metadata": {},
   "outputs": [],
   "source": [
    "df = pd.read_csv('../../Data/f_churn.csv')"
   ]
  },
  {
   "cell_type": "code",
   "execution_count": 3,
   "id": "3762e472",
   "metadata": {},
   "outputs": [
    {
     "data": {
      "text/html": [
       "<div>\n",
       "<style scoped>\n",
       "    .dataframe tbody tr th:only-of-type {\n",
       "        vertical-align: middle;\n",
       "    }\n",
       "\n",
       "    .dataframe tbody tr th {\n",
       "        vertical-align: top;\n",
       "    }\n",
       "\n",
       "    .dataframe thead th {\n",
       "        text-align: right;\n",
       "    }\n",
       "</style>\n",
       "<table border=\"1\" class=\"dataframe\">\n",
       "  <thead>\n",
       "    <tr style=\"text-align: right;\">\n",
       "      <th></th>\n",
       "      <th>Unnamed: 0</th>\n",
       "      <th>CreditScore</th>\n",
       "      <th>Age</th>\n",
       "      <th>Tenure</th>\n",
       "      <th>Balance</th>\n",
       "      <th>NumOfProducts</th>\n",
       "      <th>HasCrCard</th>\n",
       "      <th>IsActiveMember</th>\n",
       "      <th>EstimatedSalary</th>\n",
       "      <th>Exited</th>\n",
       "      <th>Geography_France</th>\n",
       "      <th>Geography_Germany</th>\n",
       "      <th>Geography_Spain</th>\n",
       "      <th>Gender</th>\n",
       "    </tr>\n",
       "  </thead>\n",
       "  <tbody>\n",
       "    <tr>\n",
       "      <th>0</th>\n",
       "      <td>0</td>\n",
       "      <td>619</td>\n",
       "      <td>42</td>\n",
       "      <td>2</td>\n",
       "      <td>0.00</td>\n",
       "      <td>1</td>\n",
       "      <td>1</td>\n",
       "      <td>1</td>\n",
       "      <td>101348.88</td>\n",
       "      <td>1</td>\n",
       "      <td>1</td>\n",
       "      <td>0</td>\n",
       "      <td>0</td>\n",
       "      <td>1</td>\n",
       "    </tr>\n",
       "    <tr>\n",
       "      <th>1</th>\n",
       "      <td>1</td>\n",
       "      <td>608</td>\n",
       "      <td>41</td>\n",
       "      <td>1</td>\n",
       "      <td>83807.86</td>\n",
       "      <td>1</td>\n",
       "      <td>0</td>\n",
       "      <td>1</td>\n",
       "      <td>112542.58</td>\n",
       "      <td>0</td>\n",
       "      <td>0</td>\n",
       "      <td>0</td>\n",
       "      <td>1</td>\n",
       "      <td>1</td>\n",
       "    </tr>\n",
       "    <tr>\n",
       "      <th>2</th>\n",
       "      <td>2</td>\n",
       "      <td>502</td>\n",
       "      <td>42</td>\n",
       "      <td>8</td>\n",
       "      <td>159660.80</td>\n",
       "      <td>3</td>\n",
       "      <td>1</td>\n",
       "      <td>0</td>\n",
       "      <td>113931.57</td>\n",
       "      <td>1</td>\n",
       "      <td>1</td>\n",
       "      <td>0</td>\n",
       "      <td>0</td>\n",
       "      <td>1</td>\n",
       "    </tr>\n",
       "    <tr>\n",
       "      <th>3</th>\n",
       "      <td>3</td>\n",
       "      <td>699</td>\n",
       "      <td>39</td>\n",
       "      <td>1</td>\n",
       "      <td>0.00</td>\n",
       "      <td>2</td>\n",
       "      <td>0</td>\n",
       "      <td>0</td>\n",
       "      <td>93826.63</td>\n",
       "      <td>0</td>\n",
       "      <td>1</td>\n",
       "      <td>0</td>\n",
       "      <td>0</td>\n",
       "      <td>1</td>\n",
       "    </tr>\n",
       "    <tr>\n",
       "      <th>4</th>\n",
       "      <td>4</td>\n",
       "      <td>850</td>\n",
       "      <td>43</td>\n",
       "      <td>2</td>\n",
       "      <td>125510.82</td>\n",
       "      <td>1</td>\n",
       "      <td>1</td>\n",
       "      <td>1</td>\n",
       "      <td>79084.10</td>\n",
       "      <td>0</td>\n",
       "      <td>0</td>\n",
       "      <td>0</td>\n",
       "      <td>1</td>\n",
       "      <td>1</td>\n",
       "    </tr>\n",
       "  </tbody>\n",
       "</table>\n",
       "</div>"
      ],
      "text/plain": [
       "   Unnamed: 0  CreditScore  Age  Tenure    Balance  NumOfProducts  HasCrCard  \\\n",
       "0           0          619   42       2       0.00              1          1   \n",
       "1           1          608   41       1   83807.86              1          0   \n",
       "2           2          502   42       8  159660.80              3          1   \n",
       "3           3          699   39       1       0.00              2          0   \n",
       "4           4          850   43       2  125510.82              1          1   \n",
       "\n",
       "   IsActiveMember  EstimatedSalary  Exited  Geography_France  \\\n",
       "0               1        101348.88       1                 1   \n",
       "1               1        112542.58       0                 0   \n",
       "2               0        113931.57       1                 1   \n",
       "3               0         93826.63       0                 1   \n",
       "4               1         79084.10       0                 0   \n",
       "\n",
       "   Geography_Germany  Geography_Spain  Gender  \n",
       "0                  0                0       1  \n",
       "1                  0                1       1  \n",
       "2                  0                0       1  \n",
       "3                  0                0       1  \n",
       "4                  0                1       1  "
      ]
     },
     "execution_count": 3,
     "metadata": {},
     "output_type": "execute_result"
    }
   ],
   "source": [
    "df.head()"
   ]
  },
  {
   "cell_type": "code",
   "execution_count": 4,
   "id": "df82a17a",
   "metadata": {},
   "outputs": [],
   "source": [
    "df = df.drop(['Unnamed: 0'],axis = 1)\n",
    "X=df.drop(['Exited'],axis = 1)\n",
    "y=df['Exited']"
   ]
  },
  {
   "cell_type": "code",
   "execution_count": null,
   "id": "49ba50d4",
   "metadata": {},
   "outputs": [],
   "source": [
    "df.shape"
   ]
  },
  {
   "cell_type": "code",
   "execution_count": 5,
   "id": "d2ee4b04",
   "metadata": {},
   "outputs": [],
   "source": [
    "features = X.values[:,:]\n",
    "target = y.values[:]"
   ]
  },
  {
   "cell_type": "code",
   "execution_count": 6,
   "id": "50cbb0df",
   "metadata": {},
   "outputs": [
    {
     "data": {
      "text/plain": [
       "array([1, 0, 1, ..., 1, 1, 0], dtype=int64)"
      ]
     },
     "execution_count": 6,
     "metadata": {},
     "output_type": "execute_result"
    }
   ],
   "source": [
    "target"
   ]
  },
  {
   "cell_type": "code",
   "execution_count": 7,
   "id": "22af15b8",
   "metadata": {},
   "outputs": [
    {
     "name": "stdout",
     "output_type": "stream",
     "text": [
      "A= [[619.  42.   2. ...   0.   0.   1.]\n",
      " [608.  41.   1. ...   0.   1.   1.]\n",
      " [502.  42.   8. ...   0.   0.   1.]\n",
      " ...\n",
      " [709.  36.   7. ...   0.   0.   1.]\n",
      " [772.  42.   3. ...   1.   0.   0.]\n",
      " [792.  28.   4. ...   0.   0.   1.]]\n",
      "U= [[-5.69228335e-03 -1.04650951e-02 -8.80243479e-03 ... -1.09784515e-02\n",
      "  -1.19952876e-02 -1.23823689e-02]\n",
      " [-1.00588589e-02 -7.23634814e-04 -5.17737089e-04 ...  4.31423175e-03\n",
      "   2.94352565e-03  1.53594420e-02]\n",
      " [-1.35199439e-02  8.99588838e-03  9.17398774e-03 ... -5.88995493e-03\n",
      "   9.23551818e-03  4.71636863e-03]\n",
      " ...\n",
      " [-2.36388334e-03 -4.34570894e-03 -1.90154805e-02 ...  9.98859847e-01\n",
      "   2.84928995e-04 -2.67943617e-04]\n",
      " [-8.56559087e-03  1.70318687e-04 -9.14227969e-03 ...  2.79937136e-04\n",
      "   9.99031298e-01 -1.10085042e-04]\n",
      " [-7.94964399e-03  1.29785466e-02 -1.21067430e-02 ... -2.56959867e-04\n",
      "  -1.11018020e-04  9.98910579e-01]]\n",
      "S= [1.39432539e+07 6.02265276e+06 2.94483606e+04 1.18143093e+03\n",
      " 2.96010118e+02 6.06954740e+01 5.93727578e+01 5.05451977e+01\n",
      " 4.92300649e+01 4.64656000e+01 4.60154163e+01 6.33211785e+00]\n",
      "V_T [[-4.21526018e-03 -2.52566968e-04 -3.24561317e-05 -6.21881165e-01\n",
      "  -9.57922187e-06 -4.54647659e-06 -3.31372207e-06 -7.83100238e-01\n",
      "  -3.01354424e-06 -1.98282361e-06 -1.48199088e-06 -2.94046391e-06]\n",
      " [-4.11658148e-04 -2.04533137e-05 -3.94450538e-06  7.83108237e-01\n",
      "  -3.45529331e-06 -5.03314709e-07 -3.45073175e-07 -6.21885295e-01\n",
      "  -1.86624914e-06  2.13603374e-06 -9.17161262e-07 -4.14994781e-07]\n",
      " [-9.98554439e-01 -5.30580153e-02 -6.87983010e-03  2.30335053e-03\n",
      "  -2.37895435e-03 -9.86161668e-04 -7.42433461e-04  3.56329277e-03\n",
      "  -8.77800892e-04 -4.79818587e-05 -4.44929089e-04 -6.24814215e-04]\n",
      " [-5.32536049e-02  9.98155451e-01  2.67460221e-02 -1.88716669e-05\n",
      "   8.17712627e-03  3.64202270e-03  5.63186161e-03 -2.15701672e-05\n",
      "   2.41669786e-03  1.29467313e-03  1.73519943e-03  3.46751553e-03]\n",
      " [-5.49477144e-03 -2.72665436e-02  9.99377055e-01 -6.90560668e-07\n",
      "   1.78108258e-02  1.03891373e-02 -2.17273579e-03 -2.80151955e-06\n",
      "   5.63517972e-03  3.18229757e-04  2.98200826e-03  1.10301192e-03]\n",
      " [-9.44444504e-04 -5.23072446e-03 -9.85601669e-03 -4.22725591e-08\n",
      "   6.43028447e-01  5.43415588e-02  3.24020792e-02 -4.89205732e-07\n",
      "  -6.08016375e-01  3.08669001e-01  3.32393999e-01  8.33059861e-02]\n",
      " [-1.76632284e-03 -7.40351536e-03 -1.61776222e-02  2.51426790e-06\n",
      "   7.18386976e-01  1.27076304e-01  7.61366260e-02 -8.83507792e-07\n",
      "   5.39514833e-01 -8.50356637e-02 -3.84164367e-01  1.25561749e-01]\n",
      " [-2.53575432e-04 -2.69683161e-03  6.00700599e-04  7.51204500e-07\n",
      "   6.86766945e-02 -6.55077244e-03  7.47276983e-01  4.41459941e-08\n",
      "   2.34935413e-02 -1.49620994e-01  1.34907573e-01 -6.29024300e-01]\n",
      " [ 3.76222821e-04  5.08344532e-03 -2.66534542e-03  4.09369843e-09\n",
      "   1.47857516e-01 -4.91257846e-03 -6.16206792e-01  9.37667893e-08\n",
      "   3.86681149e-03  8.89058406e-02 -1.10052868e-01 -7.60486220e-01]\n",
      " [-7.05155411e-04 -1.67375605e-03 -9.33297262e-03  2.36472123e-06\n",
      "   6.13883066e-02  5.51743195e-01 -1.99896352e-01 -2.65761606e-07\n",
      "   1.01463337e-01 -5.91652378e-01  5.39309284e-01  2.36668152e-02]\n",
      " [-9.86169527e-05 -1.59810274e-03 -3.48234091e-03 -2.08138819e-06\n",
      "  -1.94911217e-01  8.21963642e-01  1.22273227e-01  3.55460261e-08\n",
      "  -9.34611243e-02  4.07793465e-01 -3.06289465e-01 -5.07565585e-02]\n",
      " [ 4.79945977e-04  2.52426427e-03  4.15542827e-03  3.10474716e-07\n",
      "   4.13228617e-02  2.57800117e-02  8.56366086e-03  2.06275438e-07\n",
      "  -5.65335985e-01 -5.92327499e-01 -5.71787058e-01  1.15552177e-02]]\n"
     ]
    }
   ],
   "source": [
    "# define a matrix\n",
    "A = features\n",
    "print(\"A=\", A)\n",
    "\n",
    "# SVD\n",
    "U, S, V_T = svd(A)\n",
    "\n",
    "# left singular vectors\n",
    "print(\"U=\", U)\n",
    "\n",
    "# singular values\n",
    "print(\"S=\",S)\n",
    "\n",
    "#right singular vectors\n",
    "print(\"V_T\", V_T)"
   ]
  },
  {
   "cell_type": "code",
   "execution_count": 8,
   "id": "3bd66201",
   "metadata": {},
   "outputs": [
    {
     "name": "stdout",
     "output_type": "stream",
     "text": [
      "(10000, 12)\n",
      "(10000, 10000)\n",
      "(12,)\n",
      "(12, 12)\n"
     ]
    }
   ],
   "source": [
    "print(A.shape)\n",
    "print(U.shape)\n",
    "print(S.shape)\n",
    "print(V_T.shape)"
   ]
  },
  {
   "cell_type": "code",
   "execution_count": 10,
   "id": "6467bc91",
   "metadata": {},
   "outputs": [
    {
     "data": {
      "image/png": "[encoded data removed]",
      "text/plain": [
       "<Figure size 800x600 with 1 Axes>"
      ]
     },
     "metadata": {},
     "output_type": "display_data"
    }
   ],
   "source": [
    "plt.figure(figsize=(8, 6))\n",
    "plt.bar(range(12), S, alpha=0.5, align='center', label='S')\n",
    "plt.legend()\n",
    "plt.ylabel('S')\n",
    "plt.xlabel('SVD')\n",
    "plt.show()"
   ]
  },
  {
   "cell_type": "code",
   "execution_count": 16,
   "id": "72dad520",
   "metadata": {},
   "outputs": [
    {
     "data": {
      "text/plain": [
       "TruncatedSVD(n_iter=7, random_state=42)"
      ]
     },
     "execution_count": 16,
     "metadata": {},
     "output_type": "execute_result"
    }
   ],
   "source": [
    "A1 = csr_matrix(features)\n",
    "svd1 = TruncatedSVD(n_components=2, n_iter=7, random_state=42)\n",
    "svd1.fit(A1)\n",
    "TruncatedSVD(n_components=2, n_iter=7, random_state=42)\n"
   ]
  },
  {
   "cell_type": "code",
   "execution_count": 17,
   "id": "985c1fbe",
   "metadata": {},
   "outputs": [
    {
     "data": {
      "text/plain": [
       "array([13943253.90370025,  6022652.76264023])"
      ]
     },
     "execution_count": 17,
     "metadata": {},
     "output_type": "execute_result"
    }
   ],
   "source": [
    "svd1.singular_values_"
   ]
  },
  {
   "cell_type": "code",
   "execution_count": 18,
   "id": "54dcc5aa",
   "metadata": {},
   "outputs": [
    {
     "data": {
      "text/plain": [
       "array([0.49698588, 0.50300402])"
      ]
     },
     "execution_count": 18,
     "metadata": {},
     "output_type": "execute_result"
    }
   ],
   "source": [
    "svd1.explained_variance_ratio_"
   ]
  },
  {
   "cell_type": "code",
   "execution_count": 19,
   "id": "9c66f212",
   "metadata": {},
   "outputs": [
    {
     "data": {
      "text/plain": [
       "0.9999898974539709"
      ]
     },
     "execution_count": 19,
     "metadata": {},
     "output_type": "execute_result"
    }
   ],
   "source": [
    "svd1.explained_variance_ratio_.sum()"
   ]
  }
 ],
 "metadata": {
  "kernelspec": {
   "display_name": "Python 3 (ipykernel)",
   "language": "python",
   "name": "python3"
  },
  "language_info": {
   "codemirror_mode": {
    "name": "ipython",
    "version": 3
   },
   "file_extension": ".py",
   "mimetype": "text/x-python",
   "name": "python",
   "nbconvert_exporter": "python",
   "pygments_lexer": "ipython3",
   "version": "3.9.13"
  }
 },
 "nbformat": 4,
 "nbformat_minor": 5
}
